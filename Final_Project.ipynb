{
  "nbformat": 4,
  "nbformat_minor": 0,
  "metadata": {
    "colab": {
      "name": "Final_Project.ipynb",
      "provenance": [],
      "authorship_tag": "ABX9TyMqHIloB1jTLN1//5iHOC67",
      "include_colab_link": true
    },
    "kernelspec": {
      "name": "python3",
      "display_name": "Python 3"
    },
    "language_info": {
      "name": "python"
    }
  },
  "cells": [
    {
      "cell_type": "markdown",
      "metadata": {
        "id": "view-in-github",
        "colab_type": "text"
      },
      "source": [
        "<a href=\"https://colab.research.google.com/github/rebeccajohnson88/ar_mentalhealthproj/blob/main/Final_Project.ipynb\" target=\"_parent\"><img src=\"https://colab.research.google.com/assets/colab-badge.svg\" alt=\"Open In Colab\"/></a>"
      ]
    },
    {
      "cell_type": "code",
      "execution_count": 4,
      "metadata": {
        "id": "jaC4ivI3-q9O",
        "colab": {
          "base_uri": "https://localhost:8080/"
        },
        "outputId": "9793b3ce-ec21-4dfe-f5dd-058f82990854"
      },
      "outputs": [
        {
          "output_type": "stream",
          "name": "stdout",
          "text": [
            "[nltk_data] Downloading package stopwords to /root/nltk_data...\n",
            "[nltk_data]   Unzipping corpora/stopwords.zip.\n"
          ]
        }
      ],
      "source": [
        "#import relevant packages \n",
        "import tweepy\n",
        "import pandas as pd\n",
        "import nltk \n",
        "nltk.download('stopwords')\n",
        "from nltk.stem.porter import *\n",
        "\n"
      ]
    },
    {
      "cell_type": "code",
      "source": [
        "import gensim\n",
        "from gensim import corpora"
      ],
      "metadata": {
        "id": "KknY1JmKhEy7"
      },
      "execution_count": 252,
      "outputs": []
    },
    {
      "cell_type": "code",
      "source": [
        "nltk.download('punkt')\n",
        "from nltk.tokenize import wordpunct_tokenize, word_tokenize"
      ],
      "metadata": {
        "colab": {
          "base_uri": "https://localhost:8080/"
        },
        "id": "fk2RYM4Sc6wc",
        "outputId": "f8045b0d-5d0c-4b0d-e872-17468970b1dd"
      },
      "execution_count": 60,
      "outputs": [
        {
          "output_type": "stream",
          "name": "stdout",
          "text": [
            "[nltk_data] Downloading package punkt to /root/nltk_data...\n",
            "[nltk_data]   Unzipping tokenizers/punkt.zip.\n"
          ]
        }
      ]
    },
    {
      "cell_type": "code",
      "source": [
        "stopwords_list = stopwords.words('english') \n",
        "porter = PorterStemmer()"
      ],
      "metadata": {
        "id": "jeIj3NqCoWh3"
      },
      "execution_count": 84,
      "outputs": []
    },
    {
      "cell_type": "code",
      "source": [
        "%pip install tweepy -U  "
      ],
      "metadata": {
        "colab": {
          "base_uri": "https://localhost:8080/"
        },
        "id": "v8jJtgD1ApG1",
        "outputId": "76fd0b5b-c339-497e-d9ce-e2afff498709"
      },
      "execution_count": 1,
      "outputs": [
        {
          "output_type": "stream",
          "name": "stdout",
          "text": [
            "Requirement already satisfied: tweepy in /usr/local/lib/python3.7/dist-packages (3.10.0)\n",
            "Collecting tweepy\n",
            "  Downloading tweepy-4.6.0-py2.py3-none-any.whl (69 kB)\n",
            "\u001b[K     |████████████████████████████████| 69 kB 1.8 MB/s \n",
            "\u001b[?25hRequirement already satisfied: requests-oauthlib<2,>=1.2.0 in /usr/local/lib/python3.7/dist-packages (from tweepy) (1.3.1)\n",
            "Requirement already satisfied: oauthlib<4,>=3.2.0 in /usr/local/lib/python3.7/dist-packages (from tweepy) (3.2.0)\n",
            "Collecting requests<3,>=2.27.0\n",
            "  Downloading requests-2.27.1-py2.py3-none-any.whl (63 kB)\n",
            "\u001b[K     |████████████████████████████████| 63 kB 986 kB/s \n",
            "\u001b[?25hRequirement already satisfied: idna<4,>=2.5 in /usr/local/lib/python3.7/dist-packages (from requests<3,>=2.27.0->tweepy) (2.10)\n",
            "Requirement already satisfied: certifi>=2017.4.17 in /usr/local/lib/python3.7/dist-packages (from requests<3,>=2.27.0->tweepy) (2021.10.8)\n",
            "Requirement already satisfied: charset-normalizer~=2.0.0 in /usr/local/lib/python3.7/dist-packages (from requests<3,>=2.27.0->tweepy) (2.0.12)\n",
            "Requirement already satisfied: urllib3<1.27,>=1.21.1 in /usr/local/lib/python3.7/dist-packages (from requests<3,>=2.27.0->tweepy) (1.24.3)\n",
            "Installing collected packages: requests, tweepy\n",
            "  Attempting uninstall: requests\n",
            "    Found existing installation: requests 2.23.0\n",
            "    Uninstalling requests-2.23.0:\n",
            "      Successfully uninstalled requests-2.23.0\n",
            "  Attempting uninstall: tweepy\n",
            "    Found existing installation: tweepy 3.10.0\n",
            "    Uninstalling tweepy-3.10.0:\n",
            "      Successfully uninstalled tweepy-3.10.0\n",
            "\u001b[31mERROR: pip's dependency resolver does not currently take into account all the packages that are installed. This behaviour is the source of the following dependency conflicts.\n",
            "google-colab 1.0.0 requires requests~=2.23.0, but you have requests 2.27.1 which is incompatible.\n",
            "datascience 0.10.6 requires folium==0.2.1, but you have folium 0.8.3 which is incompatible.\u001b[0m\n",
            "Successfully installed requests-2.27.1 tweepy-4.6.0\n"
          ]
        }
      ]
    },
    {
      "cell_type": "code",
      "source": [
        "#initialize client \n",
        "client = tweepy.Client(bearer_token = 'AAAAAAAAAAAAAAAAAAAAAJe%2BZgEAAAAAYrT%2BKy9PiNrkWJ3KyKE6HIRrZBM%3DfMh2oybMX46FfAGMAoqdm6tkTAaLvRPBWsbvS6l4lPIJ9Up6qr')"
      ],
      "metadata": {
        "id": "K_vvDhsuWPwq"
      },
      "execution_count": 6,
      "outputs": []
    },
    {
      "cell_type": "code",
      "source": [
        "q = \"(#BTS) lang:en\"\n",
        "\n",
        "tweet_resp = client.search_recent_tweets(query = q,\n",
        "                                         max_results = 10, \n",
        "                                         tweet_fields = ['text','in_reply_to_user_id'],\n",
        "                                         user_fields = ['name', 'description'],\n",
        "                                         expansions = ['author_id'])"
      ],
      "metadata": {
        "id": "ruHbdXKoWLwx"
      },
      "execution_count": 7,
      "outputs": []
    },
    {
      "cell_type": "code",
      "source": [
        "[tweet['description'].replace('\\n','') for tweet in tweet_resp.includes['users']]"
      ],
      "metadata": {
        "colab": {
          "base_uri": "https://localhost:8080/"
        },
        "id": "PprF41PveB4m",
        "outputId": "00e8192d-61e2-4078-e319-3a2a5d43cc52"
      },
      "execution_count": 8,
      "outputs": [
        {
          "output_type": "execute_result",
          "data": {
            "text/plain": [
              "['',\n",
              " '💜💜💜',\n",
              " \"Hi,I'm Min JMoon Yoongi's Wife 💍✨ lembrete: dê views em No More Dream diariamente #NMDTo1Billion 📊💌 convite: #1bheartstoyoongi 💜by Sica_Galactica\",\n",
              " 'Female. Fan. Writer. Cook. Independent. Queer, bi, she/her, 30+ (ARMY // Harling) // pfp by @bebe_sope // header by bts // Слава Україні // #LeniKiko2022',\n",
              " 'Army💜💜',\n",
              " 'BTS投票垢  지민 사란헤요🐥ジミンちゃんペンでジミンちゃんを応援できたら嬉しいです。みんなの思いがジミンちゃんへ届け〜😊RTが多くなります。',\n",
              " 'I’M A LO$ER!! | 🥊🥊',\n",
              " '',\n",
              " '#JIMIN #지민 #ジミン stan | My angel deserve all the goodness and love in the world ꒰ঌ♡໒꒱',\n",
              " '']"
            ]
          },
          "metadata": {},
          "execution_count": 8
        }
      ]
    },
    {
      "cell_type": "code",
      "source": [
        "[user['name'] for user in tweet_resp.includes['users']]"
      ],
      "metadata": {
        "colab": {
          "base_uri": "https://localhost:8080/"
        },
        "id": "vRJoMw_DCF53",
        "outputId": "96532143-15c6-4bb1-8a95-5f1858889b8d"
      },
      "execution_count": 9,
      "outputs": [
        {
          "output_type": "execute_result",
          "data": {
            "text/plain": [
              "['ᴼˢᵀ¹ZEHA ⁵.⁶ᴹ',\n",
              " '𝑴𝒂𝒍𝒖 ☆',\n",
              " 'Sica_Galactica | MinMarch 🍰 #soumiau 🐱',\n",
              " 'pj⁷💜#ARMYforLENI',\n",
              " 'Dayana',\n",
              " \"j'm;\",\n",
              " 'winterbear',\n",
              " 'maria gabriela⁷ 💜',\n",
              " 'mari¹³(slow)',\n",
              " 'Rosana']"
            ]
          },
          "metadata": {},
          "execution_count": 9
        }
      ]
    },
    {
      "cell_type": "code",
      "source": [
        "tweet_resp.includes['users']"
      ],
      "metadata": {
        "colab": {
          "base_uri": "https://localhost:8080/"
        },
        "id": "OFmup23pF8PL",
        "outputId": "cadbe48f-4827-49e5-f273-c5c8c480a8db"
      },
      "execution_count": 10,
      "outputs": [
        {
          "output_type": "execute_result",
          "data": {
            "text/plain": [
              "[<User id=1428994001575813123 name=ᴼˢᵀ¹ZEHA ⁵.⁶ᴹ username=koophoria1997>,\n",
              " <User id=1198790992381526016 name=𝑴𝒂𝒍𝒖 ☆ username=mariludpaulo>,\n",
              " <User id=1395332822206984193 name=Sica_Galactica | MinMarch 🍰 #soumiau 🐱 username=minjmoon_twt>,\n",
              " <User id=110335011 name=pj⁷💜#ARMYforLENI username=ninemoons42>,\n",
              " <User id=1391909427738030084 name=Dayana username=Dayana76049999>,\n",
              " <User id=1458359704179339266 name=j'm; username=Victori48460799>,\n",
              " <User id=1278117553504739328 name=winterbear username=JoyceAshraf9>,\n",
              " <User id=868457723553296384 name=maria gabriela⁷ 💜 username=M15_Gabriela>,\n",
              " <User id=1340429880358420480 name=mari¹³(slow) username=jmn_angel13>,\n",
              " <User id=878981114 name=Rosana username=lf_rosana>]"
            ]
          },
          "metadata": {},
          "execution_count": 10
        }
      ]
    },
    {
      "cell_type": "code",
      "source": [
        "tweet_resp.data"
      ],
      "metadata": {
        "colab": {
          "base_uri": "https://localhost:8080/"
        },
        "id": "oedgMb4keRJ-",
        "outputId": "31a58822-c328-4f16-a581-5714db3d682f"
      },
      "execution_count": 11,
      "outputs": [
        {
          "output_type": "execute_result",
          "data": {
            "text/plain": [
              "[<Tweet id=1501309818992214022 text='@JKTrendSongs @BTS_twt I’m listening to #StayAlive by #JUNGKOOK and produced by #SUGA from #BTS @BTS_twt ,'>,\n",
              " <Tweet id=1501309818010685445 text='RT @BTSNewsBrasil: 🎥 Making of do BTS para Coway\\n\\n+\\n\\n@BTS_twt #BTS'>,\n",
              " <Tweet id=1501309817448808449 text='RT @officialcharts: A bit early UK time, but in KST it’s SUGA’s birthday 🎂\\n\\nHappy birthday SUGA 💜 The BTS (@BTS_twt @bts_bighit) star turns…'>,\n",
              " <Tweet id=1501309814986575873 text='RT @mintynkks: #BTS: we love yoongi the Most\\n\\na thread on how each member shows their love for their yoongi #HappyBirthdayYoongi  https://t…'>,\n",
              " <Tweet id=1501309814642774018 text=\"RT @_Alejandraa2: @chartdata @BTS_twt “Ain't no other that can sweep you up like a robber\\nStraight up, I (got ya)\\nMaking you fall like that…\">,\n",
              " <Tweet id=1501309814613315585 text='RT @km5811081013: I vote #JIMIN for #TOP100MostHandsomeFace JIMIN #BTS\\n\\n https://t.co/hDgxWjwInT'>,\n",
              " <Tweet id=1501309810922471429 text='RT @OnyxMewlion: 🐈HAPPY BIRTHDAY SUGA BIRTHDAY BUNDLE🐈\\n\\nContains\\n🍊MOTS: 7 Ver 1\\n🍊BTS The Best Ltd Ed A \\n🍊Dalmajung Binder Night Ver\\n🍊Dalmaj…'>,\n",
              " <Tweet id=1501309810117021698 text='RT @tokopedia: Happy Birthday SUGA! 💚💜 \\n\\nWe hope 2022 brings you joy, good health and all the happiness in your life and career!\\n\\nAyo Toppe…'>,\n",
              " <Tweet id=1501309809764618247 text=\"RT @POPSUGAR: Pixar has based characters on boy-band members in the past, so could Tae Young from #TurningRed be inspired by #BTS's #JIMIN?…\">,\n",
              " <Tweet id=1501309809324343303 text='@97SARCHIVES @BTS_twt I vote #BTSJUNGKOOK for #TOP100MostHandsomeFace JUNGKOOK  #BTS #JUNGKOOK @BTS_twt💜💜💜 https://t.co/xhJJp3zInM'>]"
            ]
          },
          "metadata": {},
          "execution_count": 11
        }
      ]
    },
    {
      "cell_type": "code",
      "source": [
        "# Build DataFrame using a tweet's keys as the columns \n",
        "tweet_df = pd.DataFrame(tweet_resp.data)\n",
        "\n",
        "# Print head of DataFrame\n",
        "tweet_df.head()\n"
      ],
      "metadata": {
        "colab": {
          "base_uri": "https://localhost:8080/",
          "height": 204
        },
        "id": "OxlZLSkeUSxC",
        "outputId": "b9770dca-90f2-4d7a-f5b6-aa79f685e678"
      },
      "execution_count": 12,
      "outputs": [
        {
          "output_type": "execute_result",
          "data": {
            "text/html": [
              "\n",
              "  <div id=\"df-c3a3da7f-4c93-4ddc-a8ca-9b6a6485ca08\">\n",
              "    <div class=\"colab-df-container\">\n",
              "      <div>\n",
              "<style scoped>\n",
              "    .dataframe tbody tr th:only-of-type {\n",
              "        vertical-align: middle;\n",
              "    }\n",
              "\n",
              "    .dataframe tbody tr th {\n",
              "        vertical-align: top;\n",
              "    }\n",
              "\n",
              "    .dataframe thead th {\n",
              "        text-align: right;\n",
              "    }\n",
              "</style>\n",
              "<table border=\"1\" class=\"dataframe\">\n",
              "  <thead>\n",
              "    <tr style=\"text-align: right;\">\n",
              "      <th></th>\n",
              "      <th>author_id</th>\n",
              "      <th>id</th>\n",
              "      <th>in_reply_to_user_id</th>\n",
              "      <th>text</th>\n",
              "    </tr>\n",
              "  </thead>\n",
              "  <tbody>\n",
              "    <tr>\n",
              "      <th>0</th>\n",
              "      <td>1428994001575813123</td>\n",
              "      <td>1501309818992214022</td>\n",
              "      <td>1.499434e+18</td>\n",
              "      <td>@JKTrendSongs @BTS_twt I’m listening to #StayA...</td>\n",
              "    </tr>\n",
              "    <tr>\n",
              "      <th>1</th>\n",
              "      <td>1198790992381526016</td>\n",
              "      <td>1501309818010685445</td>\n",
              "      <td>NaN</td>\n",
              "      <td>RT @BTSNewsBrasil: 🎥 Making of do BTS para Cow...</td>\n",
              "    </tr>\n",
              "    <tr>\n",
              "      <th>2</th>\n",
              "      <td>1395332822206984193</td>\n",
              "      <td>1501309817448808449</td>\n",
              "      <td>NaN</td>\n",
              "      <td>RT @officialcharts: A bit early UK time, but i...</td>\n",
              "    </tr>\n",
              "    <tr>\n",
              "      <th>3</th>\n",
              "      <td>110335011</td>\n",
              "      <td>1501309814986575873</td>\n",
              "      <td>NaN</td>\n",
              "      <td>RT @mintynkks: #BTS: we love yoongi the Most\\n...</td>\n",
              "    </tr>\n",
              "    <tr>\n",
              "      <th>4</th>\n",
              "      <td>1391909427738030084</td>\n",
              "      <td>1501309814642774018</td>\n",
              "      <td>NaN</td>\n",
              "      <td>RT @_Alejandraa2: @chartdata @BTS_twt “Ain't n...</td>\n",
              "    </tr>\n",
              "  </tbody>\n",
              "</table>\n",
              "</div>\n",
              "      <button class=\"colab-df-convert\" onclick=\"convertToInteractive('df-c3a3da7f-4c93-4ddc-a8ca-9b6a6485ca08')\"\n",
              "              title=\"Convert this dataframe to an interactive table.\"\n",
              "              style=\"display:none;\">\n",
              "        \n",
              "  <svg xmlns=\"http://www.w3.org/2000/svg\" height=\"24px\"viewBox=\"0 0 24 24\"\n",
              "       width=\"24px\">\n",
              "    <path d=\"M0 0h24v24H0V0z\" fill=\"none\"/>\n",
              "    <path d=\"M18.56 5.44l.94 2.06.94-2.06 2.06-.94-2.06-.94-.94-2.06-.94 2.06-2.06.94zm-11 1L8.5 8.5l.94-2.06 2.06-.94-2.06-.94L8.5 2.5l-.94 2.06-2.06.94zm10 10l.94 2.06.94-2.06 2.06-.94-2.06-.94-.94-2.06-.94 2.06-2.06.94z\"/><path d=\"M17.41 7.96l-1.37-1.37c-.4-.4-.92-.59-1.43-.59-.52 0-1.04.2-1.43.59L10.3 9.45l-7.72 7.72c-.78.78-.78 2.05 0 2.83L4 21.41c.39.39.9.59 1.41.59.51 0 1.02-.2 1.41-.59l7.78-7.78 2.81-2.81c.8-.78.8-2.07 0-2.86zM5.41 20L4 18.59l7.72-7.72 1.47 1.35L5.41 20z\"/>\n",
              "  </svg>\n",
              "      </button>\n",
              "      \n",
              "  <style>\n",
              "    .colab-df-container {\n",
              "      display:flex;\n",
              "      flex-wrap:wrap;\n",
              "      gap: 12px;\n",
              "    }\n",
              "\n",
              "    .colab-df-convert {\n",
              "      background-color: #E8F0FE;\n",
              "      border: none;\n",
              "      border-radius: 50%;\n",
              "      cursor: pointer;\n",
              "      display: none;\n",
              "      fill: #1967D2;\n",
              "      height: 32px;\n",
              "      padding: 0 0 0 0;\n",
              "      width: 32px;\n",
              "    }\n",
              "\n",
              "    .colab-df-convert:hover {\n",
              "      background-color: #E2EBFA;\n",
              "      box-shadow: 0px 1px 2px rgba(60, 64, 67, 0.3), 0px 1px 3px 1px rgba(60, 64, 67, 0.15);\n",
              "      fill: #174EA6;\n",
              "    }\n",
              "\n",
              "    [theme=dark] .colab-df-convert {\n",
              "      background-color: #3B4455;\n",
              "      fill: #D2E3FC;\n",
              "    }\n",
              "\n",
              "    [theme=dark] .colab-df-convert:hover {\n",
              "      background-color: #434B5C;\n",
              "      box-shadow: 0px 1px 3px 1px rgba(0, 0, 0, 0.15);\n",
              "      filter: drop-shadow(0px 1px 2px rgba(0, 0, 0, 0.3));\n",
              "      fill: #FFFFFF;\n",
              "    }\n",
              "  </style>\n",
              "\n",
              "      <script>\n",
              "        const buttonEl =\n",
              "          document.querySelector('#df-c3a3da7f-4c93-4ddc-a8ca-9b6a6485ca08 button.colab-df-convert');\n",
              "        buttonEl.style.display =\n",
              "          google.colab.kernel.accessAllowed ? 'block' : 'none';\n",
              "\n",
              "        async function convertToInteractive(key) {\n",
              "          const element = document.querySelector('#df-c3a3da7f-4c93-4ddc-a8ca-9b6a6485ca08');\n",
              "          const dataTable =\n",
              "            await google.colab.kernel.invokeFunction('convertToInteractive',\n",
              "                                                     [key], {});\n",
              "          if (!dataTable) return;\n",
              "\n",
              "          const docLinkHtml = 'Like what you see? Visit the ' +\n",
              "            '<a target=\"_blank\" href=https://colab.research.google.com/notebooks/data_table.ipynb>data table notebook</a>'\n",
              "            + ' to learn more about interactive tables.';\n",
              "          element.innerHTML = '';\n",
              "          dataTable['output_type'] = 'display_data';\n",
              "          await google.colab.output.renderOutput(dataTable, element);\n",
              "          const docLink = document.createElement('div');\n",
              "          docLink.innerHTML = docLinkHtml;\n",
              "          element.appendChild(docLink);\n",
              "        }\n",
              "      </script>\n",
              "    </div>\n",
              "  </div>\n",
              "  "
            ],
            "text/plain": [
              "             author_id                   id  in_reply_to_user_id  \\\n",
              "0  1428994001575813123  1501309818992214022         1.499434e+18   \n",
              "1  1198790992381526016  1501309818010685445                  NaN   \n",
              "2  1395332822206984193  1501309817448808449                  NaN   \n",
              "3            110335011  1501309814986575873                  NaN   \n",
              "4  1391909427738030084  1501309814642774018                  NaN   \n",
              "\n",
              "                                                text  \n",
              "0  @JKTrendSongs @BTS_twt I’m listening to #StayA...  \n",
              "1  RT @BTSNewsBrasil: 🎥 Making of do BTS para Cow...  \n",
              "2  RT @officialcharts: A bit early UK time, but i...  \n",
              "3  RT @mintynkks: #BTS: we love yoongi the Most\\n...  \n",
              "4  RT @_Alejandraa2: @chartdata @BTS_twt “Ain't n...  "
            ]
          },
          "metadata": {},
          "execution_count": 12
        }
      ]
    },
    {
      "cell_type": "code",
      "source": [
        "#User dataframe \n",
        "user_df = pd.DataFrame(tweet_resp.includes['users'])\n",
        "user_df['author_id'] = user_df['id']\n",
        "\n",
        "#Print head \n",
        "user_df.head()"
      ],
      "metadata": {
        "colab": {
          "base_uri": "https://localhost:8080/",
          "height": 204
        },
        "id": "3CkURT1MI72U",
        "outputId": "c8d11c96-e890-407f-f5f1-592c0e529019"
      },
      "execution_count": 90,
      "outputs": [
        {
          "output_type": "execute_result",
          "data": {
            "text/html": [
              "\n",
              "  <div id=\"df-40b30d1c-27c3-4fd4-8e2a-d7a5f760dd07\">\n",
              "    <div class=\"colab-df-container\">\n",
              "      <div>\n",
              "<style scoped>\n",
              "    .dataframe tbody tr th:only-of-type {\n",
              "        vertical-align: middle;\n",
              "    }\n",
              "\n",
              "    .dataframe tbody tr th {\n",
              "        vertical-align: top;\n",
              "    }\n",
              "\n",
              "    .dataframe thead th {\n",
              "        text-align: right;\n",
              "    }\n",
              "</style>\n",
              "<table border=\"1\" class=\"dataframe\">\n",
              "  <thead>\n",
              "    <tr style=\"text-align: right;\">\n",
              "      <th></th>\n",
              "      <th>description</th>\n",
              "      <th>id</th>\n",
              "      <th>name</th>\n",
              "      <th>username</th>\n",
              "      <th>author_id</th>\n",
              "    </tr>\n",
              "  </thead>\n",
              "  <tbody>\n",
              "    <tr>\n",
              "      <th>0</th>\n",
              "      <td></td>\n",
              "      <td>1428994001575813123</td>\n",
              "      <td>ᴼˢᵀ¹ZEHA ⁵.⁶ᴹ</td>\n",
              "      <td>koophoria1997</td>\n",
              "      <td>1428994001575813123</td>\n",
              "    </tr>\n",
              "    <tr>\n",
              "      <th>1</th>\n",
              "      <td>💜💜💜</td>\n",
              "      <td>1198790992381526016</td>\n",
              "      <td>𝑴𝒂𝒍𝒖 ☆</td>\n",
              "      <td>mariludpaulo</td>\n",
              "      <td>1198790992381526016</td>\n",
              "    </tr>\n",
              "    <tr>\n",
              "      <th>2</th>\n",
              "      <td>Hi,I'm Min JMoon Yoongi's Wife 💍\\n✨ lembrete: ...</td>\n",
              "      <td>1395332822206984193</td>\n",
              "      <td>Sica_Galactica | MinMarch 🍰 #soumiau 🐱</td>\n",
              "      <td>minjmoon_twt</td>\n",
              "      <td>1395332822206984193</td>\n",
              "    </tr>\n",
              "    <tr>\n",
              "      <th>3</th>\n",
              "      <td>Female. Fan. Writer. Cook. Independent. Queer,...</td>\n",
              "      <td>110335011</td>\n",
              "      <td>pj⁷💜#ARMYforLENI</td>\n",
              "      <td>ninemoons42</td>\n",
              "      <td>110335011</td>\n",
              "    </tr>\n",
              "    <tr>\n",
              "      <th>4</th>\n",
              "      <td>Army💜💜</td>\n",
              "      <td>1391909427738030084</td>\n",
              "      <td>Dayana</td>\n",
              "      <td>Dayana76049999</td>\n",
              "      <td>1391909427738030084</td>\n",
              "    </tr>\n",
              "  </tbody>\n",
              "</table>\n",
              "</div>\n",
              "      <button class=\"colab-df-convert\" onclick=\"convertToInteractive('df-40b30d1c-27c3-4fd4-8e2a-d7a5f760dd07')\"\n",
              "              title=\"Convert this dataframe to an interactive table.\"\n",
              "              style=\"display:none;\">\n",
              "        \n",
              "  <svg xmlns=\"http://www.w3.org/2000/svg\" height=\"24px\"viewBox=\"0 0 24 24\"\n",
              "       width=\"24px\">\n",
              "    <path d=\"M0 0h24v24H0V0z\" fill=\"none\"/>\n",
              "    <path d=\"M18.56 5.44l.94 2.06.94-2.06 2.06-.94-2.06-.94-.94-2.06-.94 2.06-2.06.94zm-11 1L8.5 8.5l.94-2.06 2.06-.94-2.06-.94L8.5 2.5l-.94 2.06-2.06.94zm10 10l.94 2.06.94-2.06 2.06-.94-2.06-.94-.94-2.06-.94 2.06-2.06.94z\"/><path d=\"M17.41 7.96l-1.37-1.37c-.4-.4-.92-.59-1.43-.59-.52 0-1.04.2-1.43.59L10.3 9.45l-7.72 7.72c-.78.78-.78 2.05 0 2.83L4 21.41c.39.39.9.59 1.41.59.51 0 1.02-.2 1.41-.59l7.78-7.78 2.81-2.81c.8-.78.8-2.07 0-2.86zM5.41 20L4 18.59l7.72-7.72 1.47 1.35L5.41 20z\"/>\n",
              "  </svg>\n",
              "      </button>\n",
              "      \n",
              "  <style>\n",
              "    .colab-df-container {\n",
              "      display:flex;\n",
              "      flex-wrap:wrap;\n",
              "      gap: 12px;\n",
              "    }\n",
              "\n",
              "    .colab-df-convert {\n",
              "      background-color: #E8F0FE;\n",
              "      border: none;\n",
              "      border-radius: 50%;\n",
              "      cursor: pointer;\n",
              "      display: none;\n",
              "      fill: #1967D2;\n",
              "      height: 32px;\n",
              "      padding: 0 0 0 0;\n",
              "      width: 32px;\n",
              "    }\n",
              "\n",
              "    .colab-df-convert:hover {\n",
              "      background-color: #E2EBFA;\n",
              "      box-shadow: 0px 1px 2px rgba(60, 64, 67, 0.3), 0px 1px 3px 1px rgba(60, 64, 67, 0.15);\n",
              "      fill: #174EA6;\n",
              "    }\n",
              "\n",
              "    [theme=dark] .colab-df-convert {\n",
              "      background-color: #3B4455;\n",
              "      fill: #D2E3FC;\n",
              "    }\n",
              "\n",
              "    [theme=dark] .colab-df-convert:hover {\n",
              "      background-color: #434B5C;\n",
              "      box-shadow: 0px 1px 3px 1px rgba(0, 0, 0, 0.15);\n",
              "      filter: drop-shadow(0px 1px 2px rgba(0, 0, 0, 0.3));\n",
              "      fill: #FFFFFF;\n",
              "    }\n",
              "  </style>\n",
              "\n",
              "      <script>\n",
              "        const buttonEl =\n",
              "          document.querySelector('#df-40b30d1c-27c3-4fd4-8e2a-d7a5f760dd07 button.colab-df-convert');\n",
              "        buttonEl.style.display =\n",
              "          google.colab.kernel.accessAllowed ? 'block' : 'none';\n",
              "\n",
              "        async function convertToInteractive(key) {\n",
              "          const element = document.querySelector('#df-40b30d1c-27c3-4fd4-8e2a-d7a5f760dd07');\n",
              "          const dataTable =\n",
              "            await google.colab.kernel.invokeFunction('convertToInteractive',\n",
              "                                                     [key], {});\n",
              "          if (!dataTable) return;\n",
              "\n",
              "          const docLinkHtml = 'Like what you see? Visit the ' +\n",
              "            '<a target=\"_blank\" href=https://colab.research.google.com/notebooks/data_table.ipynb>data table notebook</a>'\n",
              "            + ' to learn more about interactive tables.';\n",
              "          element.innerHTML = '';\n",
              "          dataTable['output_type'] = 'display_data';\n",
              "          await google.colab.output.renderOutput(dataTable, element);\n",
              "          const docLink = document.createElement('div');\n",
              "          docLink.innerHTML = docLinkHtml;\n",
              "          element.appendChild(docLink);\n",
              "        }\n",
              "      </script>\n",
              "    </div>\n",
              "  </div>\n",
              "  "
            ],
            "text/plain": [
              "                                         description                   id  \\\n",
              "0                                                     1428994001575813123   \n",
              "1                                                💜💜💜  1198790992381526016   \n",
              "2  Hi,I'm Min JMoon Yoongi's Wife 💍\\n✨ lembrete: ...  1395332822206984193   \n",
              "3  Female. Fan. Writer. Cook. Independent. Queer,...            110335011   \n",
              "4                                             Army💜💜  1391909427738030084   \n",
              "\n",
              "                                     name        username            author_id  \n",
              "0                           ᴼˢᵀ¹ZEHA ⁵.⁶ᴹ   koophoria1997  1428994001575813123  \n",
              "1                                  𝑴𝒂𝒍𝒖 ☆    mariludpaulo  1198790992381526016  \n",
              "2  Sica_Galactica | MinMarch 🍰 #soumiau 🐱    minjmoon_twt  1395332822206984193  \n",
              "3                        pj⁷💜#ARMYforLENI     ninemoons42            110335011  \n",
              "4                                  Dayana  Dayana76049999  1391909427738030084  "
            ]
          },
          "metadata": {},
          "execution_count": 90
        }
      ]
    },
    {
      "cell_type": "code",
      "source": [
        "BTS_tweets = tweet_df.merge(user_df, on='author_id')"
      ],
      "metadata": {
        "id": "YshF8DsaHV5C"
      },
      "execution_count": 91,
      "outputs": []
    },
    {
      "cell_type": "code",
      "source": [
        "BTS_tweets['text'] = BTS_tweets['text'].str.replace('\\n','')\n",
        "BTS_tweets['description'] = BTS_tweets['description'].str.replace('\\n', '')"
      ],
      "metadata": {
        "id": "BLY1joyUJvWn"
      },
      "execution_count": 136,
      "outputs": []
    },
    {
      "cell_type": "code",
      "source": [
        "BTS_tweets['description'] = BTS_tweets['description'].str.replace('.', '')"
      ],
      "metadata": {
        "colab": {
          "base_uri": "https://localhost:8080/"
        },
        "id": "rCJinJtk6sbA",
        "outputId": "7b1d3013-62bd-425b-a02c-773f90666680"
      },
      "execution_count": 143,
      "outputs": [
        {
          "output_type": "stream",
          "name": "stderr",
          "text": [
            "/usr/local/lib/python3.7/dist-packages/ipykernel_launcher.py:1: FutureWarning: The default value of regex will change from True to False in a future version. In addition, single character regular expressions will *not* be treated as literal strings when regex=True.\n",
            "  \"\"\"Entry point for launching an IPython kernel.\n"
          ]
        }
      ]
    },
    {
      "cell_type": "code",
      "source": [
        "corpus_lower = BTS_tweets['description'].str.lower().to_list()"
      ],
      "metadata": {
        "id": "t1J7CZca9YNi"
      },
      "execution_count": 235,
      "outputs": []
    },
    {
      "cell_type": "code",
      "source": [
        "def cleaning_function(string): \n",
        "  string_nostops = [word for word in wordpunct_tokenize(string) if word not in stopwords_list]\n",
        "  string_cleaned = [porter.stem(token) for token in string_nostops if token.isalpha() and len(token) > 1]\n",
        "  return str(string_cleaned)"
      ],
      "metadata": {
        "id": "D4W4wa_MuNdI"
      },
      "execution_count": 291,
      "outputs": []
    },
    {
      "cell_type": "code",
      "source": [
        "type([cleaning_function(desc) for desc in corpus_lower])"
      ],
      "metadata": {
        "colab": {
          "base_uri": "https://localhost:8080/"
        },
        "id": "xj4xYMkEXSLR",
        "outputId": "6458d437-f310-43c9-8a5a-924978b43dd8"
      },
      "execution_count": 293,
      "outputs": [
        {
          "output_type": "execute_result",
          "data": {
            "text/plain": [
              "list"
            ]
          },
          "metadata": {},
          "execution_count": 293
        }
      ]
    },
    {
      "cell_type": "code",
      "source": [
        "corpora.Dictionary([cleaning_function(desc) for desc in corpus_lower])"
      ],
      "metadata": {
        "colab": {
          "base_uri": "https://localhost:8080/",
          "height": 307
        },
        "id": "aexnkPAl-Tf3",
        "outputId": "00398ce2-19c3-4308-bf5d-799f20233490"
      },
      "execution_count": 294,
      "outputs": [
        {
          "output_type": "error",
          "ename": "TypeError",
          "evalue": "ignored",
          "traceback": [
            "\u001b[0;31m---------------------------------------------------------------------------\u001b[0m",
            "\u001b[0;31mTypeError\u001b[0m                                 Traceback (most recent call last)",
            "\u001b[0;32m<ipython-input-294-c386ec924c9b>\u001b[0m in \u001b[0;36m<module>\u001b[0;34m()\u001b[0m\n\u001b[0;32m----> 1\u001b[0;31m \u001b[0mcorpora\u001b[0m\u001b[0;34m.\u001b[0m\u001b[0mDictionary\u001b[0m\u001b[0;34m(\u001b[0m\u001b[0;34m[\u001b[0m\u001b[0mcleaning_function\u001b[0m\u001b[0;34m(\u001b[0m\u001b[0mdesc\u001b[0m\u001b[0;34m)\u001b[0m \u001b[0;32mfor\u001b[0m \u001b[0mdesc\u001b[0m \u001b[0;32min\u001b[0m \u001b[0mcorpus_lower\u001b[0m\u001b[0;34m]\u001b[0m\u001b[0;34m)\u001b[0m\u001b[0;34m\u001b[0m\u001b[0;34m\u001b[0m\u001b[0m\n\u001b[0m",
            "\u001b[0;32m/usr/local/lib/python3.7/dist-packages/gensim/corpora/dictionary.py\u001b[0m in \u001b[0;36m__init__\u001b[0;34m(self, documents, prune_at)\u001b[0m\n\u001b[1;32m     81\u001b[0m \u001b[0;34m\u001b[0m\u001b[0m\n\u001b[1;32m     82\u001b[0m         \u001b[0;32mif\u001b[0m \u001b[0mdocuments\u001b[0m \u001b[0;32mis\u001b[0m \u001b[0;32mnot\u001b[0m \u001b[0;32mNone\u001b[0m\u001b[0;34m:\u001b[0m\u001b[0;34m\u001b[0m\u001b[0;34m\u001b[0m\u001b[0m\n\u001b[0;32m---> 83\u001b[0;31m             \u001b[0mself\u001b[0m\u001b[0;34m.\u001b[0m\u001b[0madd_documents\u001b[0m\u001b[0;34m(\u001b[0m\u001b[0mdocuments\u001b[0m\u001b[0;34m,\u001b[0m \u001b[0mprune_at\u001b[0m\u001b[0;34m=\u001b[0m\u001b[0mprune_at\u001b[0m\u001b[0;34m)\u001b[0m\u001b[0;34m\u001b[0m\u001b[0;34m\u001b[0m\u001b[0m\n\u001b[0m\u001b[1;32m     84\u001b[0m \u001b[0;34m\u001b[0m\u001b[0m\n\u001b[1;32m     85\u001b[0m     \u001b[0;32mdef\u001b[0m \u001b[0m__getitem__\u001b[0m\u001b[0;34m(\u001b[0m\u001b[0mself\u001b[0m\u001b[0;34m,\u001b[0m \u001b[0mtokenid\u001b[0m\u001b[0;34m)\u001b[0m\u001b[0;34m:\u001b[0m\u001b[0;34m\u001b[0m\u001b[0;34m\u001b[0m\u001b[0m\n",
            "\u001b[0;32m/usr/local/lib/python3.7/dist-packages/gensim/corpora/dictionary.py\u001b[0m in \u001b[0;36madd_documents\u001b[0;34m(self, documents, prune_at)\u001b[0m\n\u001b[1;32m    200\u001b[0m \u001b[0;34m\u001b[0m\u001b[0m\n\u001b[1;32m    201\u001b[0m             \u001b[0;31m# update Dictionary with the document\u001b[0m\u001b[0;34m\u001b[0m\u001b[0;34m\u001b[0m\u001b[0;34m\u001b[0m\u001b[0m\n\u001b[0;32m--> 202\u001b[0;31m             \u001b[0mself\u001b[0m\u001b[0;34m.\u001b[0m\u001b[0mdoc2bow\u001b[0m\u001b[0;34m(\u001b[0m\u001b[0mdocument\u001b[0m\u001b[0;34m,\u001b[0m \u001b[0mallow_update\u001b[0m\u001b[0;34m=\u001b[0m\u001b[0;32mTrue\u001b[0m\u001b[0;34m)\u001b[0m  \u001b[0;31m# ignore the result, here we only care about updating token ids\u001b[0m\u001b[0;34m\u001b[0m\u001b[0;34m\u001b[0m\u001b[0m\n\u001b[0m\u001b[1;32m    203\u001b[0m \u001b[0;34m\u001b[0m\u001b[0m\n\u001b[1;32m    204\u001b[0m         logger.info(\n",
            "\u001b[0;32m/usr/local/lib/python3.7/dist-packages/gensim/corpora/dictionary.py\u001b[0m in \u001b[0;36mdoc2bow\u001b[0;34m(self, document, allow_update, return_missing)\u001b[0m\n\u001b[1;32m    238\u001b[0m         \"\"\"\n\u001b[1;32m    239\u001b[0m         \u001b[0;32mif\u001b[0m \u001b[0misinstance\u001b[0m\u001b[0;34m(\u001b[0m\u001b[0mdocument\u001b[0m\u001b[0;34m,\u001b[0m \u001b[0mstring_types\u001b[0m\u001b[0;34m)\u001b[0m\u001b[0;34m:\u001b[0m\u001b[0;34m\u001b[0m\u001b[0;34m\u001b[0m\u001b[0m\n\u001b[0;32m--> 240\u001b[0;31m             \u001b[0;32mraise\u001b[0m \u001b[0mTypeError\u001b[0m\u001b[0;34m(\u001b[0m\u001b[0;34m\"doc2bow expects an array of unicode tokens on input, not a single string\"\u001b[0m\u001b[0;34m)\u001b[0m\u001b[0;34m\u001b[0m\u001b[0;34m\u001b[0m\u001b[0m\n\u001b[0m\u001b[1;32m    241\u001b[0m \u001b[0;34m\u001b[0m\u001b[0m\n\u001b[1;32m    242\u001b[0m         \u001b[0;31m# Construct (word, frequency) mapping.\u001b[0m\u001b[0;34m\u001b[0m\u001b[0;34m\u001b[0m\u001b[0;34m\u001b[0m\u001b[0m\n",
            "\u001b[0;31mTypeError\u001b[0m: doc2bow expects an array of unicode tokens on input, not a single string"
          ]
        }
      ]
    }
  ]
}