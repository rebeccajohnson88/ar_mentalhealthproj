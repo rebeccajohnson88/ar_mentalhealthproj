{
  "nbformat": 4,
  "nbformat_minor": 0,
  "metadata": {
    "colab": {
      "name": "Final_Project.ipynb",
      "provenance": [],
      "authorship_tag": "ABX9TyN7A+1g8Azt+bVF71HRdOfv",
      "include_colab_link": true
    },
    "kernelspec": {
      "name": "python3",
      "display_name": "Python 3"
    },
    "language_info": {
      "name": "python"
    }
  },
  "cells": [
    {
      "cell_type": "markdown",
      "metadata": {
        "id": "view-in-github",
        "colab_type": "text"
      },
      "source": [
        "<a href=\"https://colab.research.google.com/github/rebeccajohnson88/ar_mentalhealthproj/blob/main/Final_Project.ipynb\" target=\"_parent\"><img src=\"https://colab.research.google.com/assets/colab-badge.svg\" alt=\"Open In Colab\"/></a>"
      ]
    },
    {
      "cell_type": "code",
      "source": [
        "pip install pyLDAvis"
      ],
      "metadata": {
        "id": "V2n8KfFWqTeE",
        "colab": {
          "base_uri": "https://localhost:8080/"
        },
        "outputId": "51673f02-3ded-4822-fcf7-b12d65464b71"
      },
      "execution_count": 1,
      "outputs": [
        {
          "output_type": "stream",
          "name": "stdout",
          "text": [
            "Collecting pyLDAvis\n",
            "  Downloading pyLDAvis-3.3.1.tar.gz (1.7 MB)\n",
            "\u001b[K     |████████████████████████████████| 1.7 MB 2.7 MB/s \n",
            "\u001b[?25h  Installing build dependencies ... \u001b[?25l\u001b[?25hdone\n",
            "  Getting requirements to build wheel ... \u001b[?25l\u001b[?25hdone\n",
            "  Installing backend dependencies ... \u001b[?25l\u001b[?25hdone\n",
            "    Preparing wheel metadata ... \u001b[?25l\u001b[?25hdone\n",
            "Requirement already satisfied: numpy>=1.20.0 in /usr/local/lib/python3.7/dist-packages (from pyLDAvis) (1.21.5)\n",
            "Requirement already satisfied: future in /usr/local/lib/python3.7/dist-packages (from pyLDAvis) (0.16.0)\n",
            "Requirement already satisfied: jinja2 in /usr/local/lib/python3.7/dist-packages (from pyLDAvis) (2.11.3)\n",
            "Requirement already satisfied: setuptools in /usr/local/lib/python3.7/dist-packages (from pyLDAvis) (57.4.0)\n",
            "Requirement already satisfied: pandas>=1.2.0 in /usr/local/lib/python3.7/dist-packages (from pyLDAvis) (1.3.5)\n",
            "Requirement already satisfied: numexpr in /usr/local/lib/python3.7/dist-packages (from pyLDAvis) (2.8.1)\n",
            "Requirement already satisfied: joblib in /usr/local/lib/python3.7/dist-packages (from pyLDAvis) (1.1.0)\n",
            "Collecting funcy\n",
            "  Downloading funcy-1.17-py2.py3-none-any.whl (33 kB)\n",
            "Requirement already satisfied: gensim in /usr/local/lib/python3.7/dist-packages (from pyLDAvis) (3.6.0)\n",
            "Requirement already satisfied: sklearn in /usr/local/lib/python3.7/dist-packages (from pyLDAvis) (0.0)\n",
            "Requirement already satisfied: scikit-learn in /usr/local/lib/python3.7/dist-packages (from pyLDAvis) (1.0.2)\n",
            "Requirement already satisfied: scipy in /usr/local/lib/python3.7/dist-packages (from pyLDAvis) (1.4.1)\n",
            "Requirement already satisfied: python-dateutil>=2.7.3 in /usr/local/lib/python3.7/dist-packages (from pandas>=1.2.0->pyLDAvis) (2.8.2)\n",
            "Requirement already satisfied: pytz>=2017.3 in /usr/local/lib/python3.7/dist-packages (from pandas>=1.2.0->pyLDAvis) (2018.9)\n",
            "Requirement already satisfied: six>=1.5 in /usr/local/lib/python3.7/dist-packages (from python-dateutil>=2.7.3->pandas>=1.2.0->pyLDAvis) (1.15.0)\n",
            "Requirement already satisfied: smart-open>=1.2.1 in /usr/local/lib/python3.7/dist-packages (from gensim->pyLDAvis) (5.2.1)\n",
            "Requirement already satisfied: MarkupSafe>=0.23 in /usr/local/lib/python3.7/dist-packages (from jinja2->pyLDAvis) (2.0.1)\n",
            "Requirement already satisfied: packaging in /usr/local/lib/python3.7/dist-packages (from numexpr->pyLDAvis) (21.3)\n",
            "Requirement already satisfied: pyparsing!=3.0.5,>=2.0.2 in /usr/local/lib/python3.7/dist-packages (from packaging->numexpr->pyLDAvis) (3.0.7)\n",
            "Requirement already satisfied: threadpoolctl>=2.0.0 in /usr/local/lib/python3.7/dist-packages (from scikit-learn->pyLDAvis) (3.1.0)\n",
            "Building wheels for collected packages: pyLDAvis\n",
            "  Building wheel for pyLDAvis (PEP 517) ... \u001b[?25l\u001b[?25hdone\n",
            "  Created wheel for pyLDAvis: filename=pyLDAvis-3.3.1-py2.py3-none-any.whl size=136898 sha256=38d4dda4295054965a5b73ec0fae606f1dd9b7363e8ac546b9a7096b15277b94\n",
            "  Stored in directory: /root/.cache/pip/wheels/c9/21/f6/17bcf2667e8a68532ba2fbf6d5c72fdf4c7f7d9abfa4852d2f\n",
            "Successfully built pyLDAvis\n",
            "Installing collected packages: funcy, pyLDAvis\n",
            "Successfully installed funcy-1.17 pyLDAvis-3.3.1\n"
          ]
        }
      ]
    },
    {
      "cell_type": "code",
      "source": [
        "%pip install tweepy -U  "
      ],
      "metadata": {
        "id": "v8jJtgD1ApG1",
        "colab": {
          "base_uri": "https://localhost:8080/"
        },
        "outputId": "1d3eee38-ef1d-488e-9c3f-94d10f1168db"
      },
      "execution_count": 2,
      "outputs": [
        {
          "output_type": "stream",
          "name": "stdout",
          "text": [
            "Requirement already satisfied: tweepy in /usr/local/lib/python3.7/dist-packages (3.10.0)\n",
            "Collecting tweepy\n",
            "  Downloading tweepy-4.6.0-py2.py3-none-any.whl (69 kB)\n",
            "\u001b[K     |████████████████████████████████| 69 kB 2.6 MB/s \n",
            "\u001b[?25hRequirement already satisfied: oauthlib<4,>=3.2.0 in /usr/local/lib/python3.7/dist-packages (from tweepy) (3.2.0)\n",
            "Requirement already satisfied: requests-oauthlib<2,>=1.2.0 in /usr/local/lib/python3.7/dist-packages (from tweepy) (1.3.1)\n",
            "Collecting requests<3,>=2.27.0\n",
            "  Downloading requests-2.27.1-py2.py3-none-any.whl (63 kB)\n",
            "\u001b[K     |████████████████████████████████| 63 kB 1.5 MB/s \n",
            "\u001b[?25hRequirement already satisfied: charset-normalizer~=2.0.0 in /usr/local/lib/python3.7/dist-packages (from requests<3,>=2.27.0->tweepy) (2.0.12)\n",
            "Requirement already satisfied: urllib3<1.27,>=1.21.1 in /usr/local/lib/python3.7/dist-packages (from requests<3,>=2.27.0->tweepy) (1.24.3)\n",
            "Requirement already satisfied: certifi>=2017.4.17 in /usr/local/lib/python3.7/dist-packages (from requests<3,>=2.27.0->tweepy) (2021.10.8)\n",
            "Requirement already satisfied: idna<4,>=2.5 in /usr/local/lib/python3.7/dist-packages (from requests<3,>=2.27.0->tweepy) (2.10)\n",
            "Installing collected packages: requests, tweepy\n",
            "  Attempting uninstall: requests\n",
            "    Found existing installation: requests 2.23.0\n",
            "    Uninstalling requests-2.23.0:\n",
            "      Successfully uninstalled requests-2.23.0\n",
            "  Attempting uninstall: tweepy\n",
            "    Found existing installation: tweepy 3.10.0\n",
            "    Uninstalling tweepy-3.10.0:\n",
            "      Successfully uninstalled tweepy-3.10.0\n",
            "\u001b[31mERROR: pip's dependency resolver does not currently take into account all the packages that are installed. This behaviour is the source of the following dependency conflicts.\n",
            "google-colab 1.0.0 requires requests~=2.23.0, but you have requests 2.27.1 which is incompatible.\n",
            "datascience 0.10.6 requires folium==0.2.1, but you have folium 0.8.3 which is incompatible.\u001b[0m\n",
            "Successfully installed requests-2.27.1 tweepy-4.6.0\n"
          ]
        }
      ]
    },
    {
      "cell_type": "code",
      "execution_count": 3,
      "metadata": {
        "id": "jaC4ivI3-q9O",
        "colab": {
          "base_uri": "https://localhost:8080/"
        },
        "outputId": "9bbbfdc7-e576-4534-c2e1-9391b1e6e56b"
      },
      "outputs": [
        {
          "output_type": "stream",
          "name": "stdout",
          "text": [
            "[nltk_data] Downloading package stopwords to /root/nltk_data...\n",
            "[nltk_data]   Unzipping corpora/stopwords.zip.\n"
          ]
        },
        {
          "output_type": "execute_result",
          "data": {
            "text/plain": [
              "True"
            ]
          },
          "metadata": {},
          "execution_count": 3
        }
      ],
      "source": [
        "#import relevant packages \n",
        "import tweepy\n",
        "import pandas as pd\n",
        "import nltk \n",
        "nltk.download('stopwords')\n",
        "\n"
      ]
    },
    {
      "cell_type": "code",
      "source": [
        "import gensim\n",
        "from gensim import corpora"
      ],
      "metadata": {
        "id": "KknY1JmKhEy7"
      },
      "execution_count": 4,
      "outputs": []
    },
    {
      "cell_type": "code",
      "source": [
        "nltk.download('punkt')\n",
        "from nltk.tokenize import wordpunct_tokenize, word_tokenize\n",
        "from nltk.corpus import stopwords"
      ],
      "metadata": {
        "id": "fk2RYM4Sc6wc",
        "colab": {
          "base_uri": "https://localhost:8080/"
        },
        "outputId": "6320e521-74b7-474d-fa55-875715150f90"
      },
      "execution_count": 5,
      "outputs": [
        {
          "output_type": "stream",
          "name": "stdout",
          "text": [
            "[nltk_data] Downloading package punkt to /root/nltk_data...\n",
            "[nltk_data]   Unzipping tokenizers/punkt.zip.\n"
          ]
        }
      ]
    },
    {
      "cell_type": "code",
      "source": [
        "import pyLDAvis\n",
        "import pyLDAvis.gensim_models as gensimvis"
      ],
      "metadata": {
        "id": "ie-Zv-JKq09s",
        "colab": {
          "base_uri": "https://localhost:8080/"
        },
        "outputId": "4c3eee0f-02cf-45ae-992a-bcba5267477e"
      },
      "execution_count": 6,
      "outputs": [
        {
          "output_type": "stream",
          "name": "stderr",
          "text": [
            "/usr/local/lib/python3.7/dist-packages/past/types/oldstr.py:5: DeprecationWarning: Using or importing the ABCs from 'collections' instead of from 'collections.abc' is deprecated since Python 3.3,and in 3.9 it will stop working\n",
            "  from collections import Iterable\n"
          ]
        }
      ]
    },
    {
      "cell_type": "code",
      "source": [
        "stopwords_list = stopwords.words('english') \n"
      ],
      "metadata": {
        "id": "jeIj3NqCoWh3"
      },
      "execution_count": 7,
      "outputs": []
    },
    {
      "cell_type": "code",
      "source": [
        "#initialize client \n",
        "client = tweepy.Client(bearer_token = 'AAAAAAAAAAAAAAAAAAAAAJe%2BZgEAAAAAYrT%2BKy9PiNrkWJ3KyKE6HIRrZBM%3DfMh2oybMX46FfAGMAoqdm6tkTAaLvRPBWsbvS6l4lPIJ9Up6qr')"
      ],
      "metadata": {
        "id": "K_vvDhsuWPwq"
      },
      "execution_count": 8,
      "outputs": []
    },
    {
      "cell_type": "code",
      "source": [
        "q = \"(#BTS) lang:en\"\n",
        "\n",
        "tweet_resp = client.search_recent_tweets(query = q,\n",
        "                                         max_results = 100, \n",
        "                                         tweet_fields = ['text'],\n",
        "                                         user_fields = ['name', 'description'],\n",
        "                                         expansions = ['author_id'])"
      ],
      "metadata": {
        "id": "ruHbdXKoWLwx"
      },
      "execution_count": 9,
      "outputs": []
    },
    {
      "cell_type": "code",
      "source": [
        "[tweet['description'].replace('\\n','') for tweet in tweet_resp.includes['users']][:5]"
      ],
      "metadata": {
        "colab": {
          "base_uri": "https://localhost:8080/"
        },
        "id": "PprF41PveB4m",
        "outputId": "a4f08485-bd18-49de-892d-f5602f2320c7"
      },
      "execution_count": 10,
      "outputs": [
        {
          "output_type": "execute_result",
          "data": {
            "text/plain": [
              "['My uWuS Are Always All Over the Place for #Yoonkook | BTS | ~ 우린 가족보다 가까워졌어 💜 A.R.M.Y 💜✨',\n",
              " 'you were born to be real, not to be perfect. - Min Yoongi aka Suga aka Agust D aka lil meow meow in this bvtch  |',\n",
              " 'Here for bts only  •  Kimetsu No Yaiba  •  she/her  •  BADDD at dms  •  solos and antis gtfo  •  priv when 💤',\n",
              " '🦋 Try something different ☘ Surrender 💞',\n",
              " \"I am a grandmother who loves her amazing grandchildren but then I found out you can love someone else's child too as I love BTS. So I am OT7 and support all 7.\"]"
            ]
          },
          "metadata": {},
          "execution_count": 10
        }
      ]
    },
    {
      "cell_type": "code",
      "source": [
        "[user['name'] for user in tweet_resp.includes['users']][:5]"
      ],
      "metadata": {
        "colab": {
          "base_uri": "https://localhost:8080/"
        },
        "id": "vRJoMw_DCF53",
        "outputId": "c8ff3f7e-190d-43f9-cdda-82f2beadda1d"
      },
      "execution_count": 11,
      "outputs": [
        {
          "output_type": "execute_result",
          "data": {
            "text/plain": [
              "['•ᴗ•⁷', 'LEGXNDARY', 'Hreem.⁷', 'Gigi', 'Moeatu']"
            ]
          },
          "metadata": {},
          "execution_count": 11
        }
      ]
    },
    {
      "cell_type": "code",
      "source": [
        "tweet_resp.includes['users'][:5]"
      ],
      "metadata": {
        "id": "OFmup23pF8PL"
      },
      "execution_count": null,
      "outputs": []
    },
    {
      "cell_type": "code",
      "source": [
        "tweet_resp.data"
      ],
      "metadata": {
        "id": "oedgMb4keRJ-"
      },
      "execution_count": null,
      "outputs": []
    },
    {
      "cell_type": "code",
      "source": [
        "# Build DataFrame using a tweet's keys as the columns \n",
        "tweet_df = pd.DataFrame(tweet_resp.data)\n",
        "\n",
        "# Print head of DataFrame\n",
        "tweet_df.head()\n"
      ],
      "metadata": {
        "id": "OxlZLSkeUSxC",
        "colab": {
          "base_uri": "https://localhost:8080/",
          "height": 204
        },
        "outputId": "ced1d0af-e941-4b27-ec3c-35f9ad692c62"
      },
      "execution_count": 14,
      "outputs": [
        {
          "output_type": "execute_result",
          "data": {
            "text/plain": [
              "             author_id                   id  \\\n",
              "0           2382210670  1503115309242327044   \n",
              "1  1424507926962597892  1503115307673554945   \n",
              "2  1497504841911910407  1503115306167939082   \n",
              "3  1421243997851426820  1503115305895268355   \n",
              "4  1391930614153052162  1503115305811279874   \n",
              "\n",
              "                                                text  \n",
              "0  RT @ZER0XBLACK: 220314 Jungkook Instagram \\nht...  \n",
              "1  RT @BTSTrendSongs: 📊 Update 24h (21h00 - 23h00...  \n",
              "2  RT @mrgrtvibes: TO BE ABLE TO CLOSE TO THEM LI...  \n",
              "3  @tatabyjimin @btstrendingsong @BTS_twt Happy b...  \n",
              "4  RT @ram56369670: use our keyword for Stay Aliv...  "
            ],
            "text/html": [
              "\n",
              "  <div id=\"df-6bf6ef3a-719e-410b-ac7f-54f9fb903a25\">\n",
              "    <div class=\"colab-df-container\">\n",
              "      <div>\n",
              "<style scoped>\n",
              "    .dataframe tbody tr th:only-of-type {\n",
              "        vertical-align: middle;\n",
              "    }\n",
              "\n",
              "    .dataframe tbody tr th {\n",
              "        vertical-align: top;\n",
              "    }\n",
              "\n",
              "    .dataframe thead th {\n",
              "        text-align: right;\n",
              "    }\n",
              "</style>\n",
              "<table border=\"1\" class=\"dataframe\">\n",
              "  <thead>\n",
              "    <tr style=\"text-align: right;\">\n",
              "      <th></th>\n",
              "      <th>author_id</th>\n",
              "      <th>id</th>\n",
              "      <th>text</th>\n",
              "    </tr>\n",
              "  </thead>\n",
              "  <tbody>\n",
              "    <tr>\n",
              "      <th>0</th>\n",
              "      <td>2382210670</td>\n",
              "      <td>1503115309242327044</td>\n",
              "      <td>RT @ZER0XBLACK: 220314 Jungkook Instagram \\nht...</td>\n",
              "    </tr>\n",
              "    <tr>\n",
              "      <th>1</th>\n",
              "      <td>1424507926962597892</td>\n",
              "      <td>1503115307673554945</td>\n",
              "      <td>RT @BTSTrendSongs: 📊 Update 24h (21h00 - 23h00...</td>\n",
              "    </tr>\n",
              "    <tr>\n",
              "      <th>2</th>\n",
              "      <td>1497504841911910407</td>\n",
              "      <td>1503115306167939082</td>\n",
              "      <td>RT @mrgrtvibes: TO BE ABLE TO CLOSE TO THEM LI...</td>\n",
              "    </tr>\n",
              "    <tr>\n",
              "      <th>3</th>\n",
              "      <td>1421243997851426820</td>\n",
              "      <td>1503115305895268355</td>\n",
              "      <td>@tatabyjimin @btstrendingsong @BTS_twt Happy b...</td>\n",
              "    </tr>\n",
              "    <tr>\n",
              "      <th>4</th>\n",
              "      <td>1391930614153052162</td>\n",
              "      <td>1503115305811279874</td>\n",
              "      <td>RT @ram56369670: use our keyword for Stay Aliv...</td>\n",
              "    </tr>\n",
              "  </tbody>\n",
              "</table>\n",
              "</div>\n",
              "      <button class=\"colab-df-convert\" onclick=\"convertToInteractive('df-6bf6ef3a-719e-410b-ac7f-54f9fb903a25')\"\n",
              "              title=\"Convert this dataframe to an interactive table.\"\n",
              "              style=\"display:none;\">\n",
              "        \n",
              "  <svg xmlns=\"http://www.w3.org/2000/svg\" height=\"24px\"viewBox=\"0 0 24 24\"\n",
              "       width=\"24px\">\n",
              "    <path d=\"M0 0h24v24H0V0z\" fill=\"none\"/>\n",
              "    <path d=\"M18.56 5.44l.94 2.06.94-2.06 2.06-.94-2.06-.94-.94-2.06-.94 2.06-2.06.94zm-11 1L8.5 8.5l.94-2.06 2.06-.94-2.06-.94L8.5 2.5l-.94 2.06-2.06.94zm10 10l.94 2.06.94-2.06 2.06-.94-2.06-.94-.94-2.06-.94 2.06-2.06.94z\"/><path d=\"M17.41 7.96l-1.37-1.37c-.4-.4-.92-.59-1.43-.59-.52 0-1.04.2-1.43.59L10.3 9.45l-7.72 7.72c-.78.78-.78 2.05 0 2.83L4 21.41c.39.39.9.59 1.41.59.51 0 1.02-.2 1.41-.59l7.78-7.78 2.81-2.81c.8-.78.8-2.07 0-2.86zM5.41 20L4 18.59l7.72-7.72 1.47 1.35L5.41 20z\"/>\n",
              "  </svg>\n",
              "      </button>\n",
              "      \n",
              "  <style>\n",
              "    .colab-df-container {\n",
              "      display:flex;\n",
              "      flex-wrap:wrap;\n",
              "      gap: 12px;\n",
              "    }\n",
              "\n",
              "    .colab-df-convert {\n",
              "      background-color: #E8F0FE;\n",
              "      border: none;\n",
              "      border-radius: 50%;\n",
              "      cursor: pointer;\n",
              "      display: none;\n",
              "      fill: #1967D2;\n",
              "      height: 32px;\n",
              "      padding: 0 0 0 0;\n",
              "      width: 32px;\n",
              "    }\n",
              "\n",
              "    .colab-df-convert:hover {\n",
              "      background-color: #E2EBFA;\n",
              "      box-shadow: 0px 1px 2px rgba(60, 64, 67, 0.3), 0px 1px 3px 1px rgba(60, 64, 67, 0.15);\n",
              "      fill: #174EA6;\n",
              "    }\n",
              "\n",
              "    [theme=dark] .colab-df-convert {\n",
              "      background-color: #3B4455;\n",
              "      fill: #D2E3FC;\n",
              "    }\n",
              "\n",
              "    [theme=dark] .colab-df-convert:hover {\n",
              "      background-color: #434B5C;\n",
              "      box-shadow: 0px 1px 3px 1px rgba(0, 0, 0, 0.15);\n",
              "      filter: drop-shadow(0px 1px 2px rgba(0, 0, 0, 0.3));\n",
              "      fill: #FFFFFF;\n",
              "    }\n",
              "  </style>\n",
              "\n",
              "      <script>\n",
              "        const buttonEl =\n",
              "          document.querySelector('#df-6bf6ef3a-719e-410b-ac7f-54f9fb903a25 button.colab-df-convert');\n",
              "        buttonEl.style.display =\n",
              "          google.colab.kernel.accessAllowed ? 'block' : 'none';\n",
              "\n",
              "        async function convertToInteractive(key) {\n",
              "          const element = document.querySelector('#df-6bf6ef3a-719e-410b-ac7f-54f9fb903a25');\n",
              "          const dataTable =\n",
              "            await google.colab.kernel.invokeFunction('convertToInteractive',\n",
              "                                                     [key], {});\n",
              "          if (!dataTable) return;\n",
              "\n",
              "          const docLinkHtml = 'Like what you see? Visit the ' +\n",
              "            '<a target=\"_blank\" href=https://colab.research.google.com/notebooks/data_table.ipynb>data table notebook</a>'\n",
              "            + ' to learn more about interactive tables.';\n",
              "          element.innerHTML = '';\n",
              "          dataTable['output_type'] = 'display_data';\n",
              "          await google.colab.output.renderOutput(dataTable, element);\n",
              "          const docLink = document.createElement('div');\n",
              "          docLink.innerHTML = docLinkHtml;\n",
              "          element.appendChild(docLink);\n",
              "        }\n",
              "      </script>\n",
              "    </div>\n",
              "  </div>\n",
              "  "
            ]
          },
          "metadata": {},
          "execution_count": 14
        }
      ]
    },
    {
      "cell_type": "code",
      "source": [
        "#User dataframe \n",
        "user_df = pd.DataFrame(tweet_resp.includes['users'])\n",
        "user_df['author_id'] = user_df['id']\n",
        "\n",
        "#Print head \n",
        "user_df.head()"
      ],
      "metadata": {
        "id": "3CkURT1MI72U",
        "colab": {
          "base_uri": "https://localhost:8080/",
          "height": 204
        },
        "outputId": "e06e6473-5880-49db-adee-a021699bb67f"
      },
      "execution_count": 15,
      "outputs": [
        {
          "output_type": "execute_result",
          "data": {
            "text/plain": [
              "                                         description                   id  \\\n",
              "0  My uWuS Are Always All Over the Place for #Yoo...           2382210670   \n",
              "1  you were born to be real, not to be perfect. -...  1424507926962597892   \n",
              "2  Here for bts only  •  Kimetsu No Yaiba  •  she...  1497504841911910407   \n",
              "3            🦋 Try something different ☘ Surrender 💞  1421243997851426820   \n",
              "4  I am a grandmother who loves her amazing grand...  1391930614153052162   \n",
              "\n",
              "        name        username            author_id  \n",
              "0       •ᴗ•⁷    fairylandkoo           2382210670  \n",
              "1  LEGXNDARY   BurnTheStageJ  1424507926962597892  \n",
              "2    Hreem.⁷    Tengensrkive  1497504841911910407  \n",
              "3       Gigi  I_DesertFlower  1421243997851426820  \n",
              "4     Moeatu         Moeatu1  1391930614153052162  "
            ],
            "text/html": [
              "\n",
              "  <div id=\"df-4bdcd219-cfa7-4721-bd30-653123611d7e\">\n",
              "    <div class=\"colab-df-container\">\n",
              "      <div>\n",
              "<style scoped>\n",
              "    .dataframe tbody tr th:only-of-type {\n",
              "        vertical-align: middle;\n",
              "    }\n",
              "\n",
              "    .dataframe tbody tr th {\n",
              "        vertical-align: top;\n",
              "    }\n",
              "\n",
              "    .dataframe thead th {\n",
              "        text-align: right;\n",
              "    }\n",
              "</style>\n",
              "<table border=\"1\" class=\"dataframe\">\n",
              "  <thead>\n",
              "    <tr style=\"text-align: right;\">\n",
              "      <th></th>\n",
              "      <th>description</th>\n",
              "      <th>id</th>\n",
              "      <th>name</th>\n",
              "      <th>username</th>\n",
              "      <th>author_id</th>\n",
              "    </tr>\n",
              "  </thead>\n",
              "  <tbody>\n",
              "    <tr>\n",
              "      <th>0</th>\n",
              "      <td>My uWuS Are Always All Over the Place for #Yoo...</td>\n",
              "      <td>2382210670</td>\n",
              "      <td>•ᴗ•⁷</td>\n",
              "      <td>fairylandkoo</td>\n",
              "      <td>2382210670</td>\n",
              "    </tr>\n",
              "    <tr>\n",
              "      <th>1</th>\n",
              "      <td>you were born to be real, not to be perfect. -...</td>\n",
              "      <td>1424507926962597892</td>\n",
              "      <td>LEGXNDARY</td>\n",
              "      <td>BurnTheStageJ</td>\n",
              "      <td>1424507926962597892</td>\n",
              "    </tr>\n",
              "    <tr>\n",
              "      <th>2</th>\n",
              "      <td>Here for bts only  •  Kimetsu No Yaiba  •  she...</td>\n",
              "      <td>1497504841911910407</td>\n",
              "      <td>Hreem.⁷</td>\n",
              "      <td>Tengensrkive</td>\n",
              "      <td>1497504841911910407</td>\n",
              "    </tr>\n",
              "    <tr>\n",
              "      <th>3</th>\n",
              "      <td>🦋 Try something different ☘ Surrender 💞</td>\n",
              "      <td>1421243997851426820</td>\n",
              "      <td>Gigi</td>\n",
              "      <td>I_DesertFlower</td>\n",
              "      <td>1421243997851426820</td>\n",
              "    </tr>\n",
              "    <tr>\n",
              "      <th>4</th>\n",
              "      <td>I am a grandmother who loves her amazing grand...</td>\n",
              "      <td>1391930614153052162</td>\n",
              "      <td>Moeatu</td>\n",
              "      <td>Moeatu1</td>\n",
              "      <td>1391930614153052162</td>\n",
              "    </tr>\n",
              "  </tbody>\n",
              "</table>\n",
              "</div>\n",
              "      <button class=\"colab-df-convert\" onclick=\"convertToInteractive('df-4bdcd219-cfa7-4721-bd30-653123611d7e')\"\n",
              "              title=\"Convert this dataframe to an interactive table.\"\n",
              "              style=\"display:none;\">\n",
              "        \n",
              "  <svg xmlns=\"http://www.w3.org/2000/svg\" height=\"24px\"viewBox=\"0 0 24 24\"\n",
              "       width=\"24px\">\n",
              "    <path d=\"M0 0h24v24H0V0z\" fill=\"none\"/>\n",
              "    <path d=\"M18.56 5.44l.94 2.06.94-2.06 2.06-.94-2.06-.94-.94-2.06-.94 2.06-2.06.94zm-11 1L8.5 8.5l.94-2.06 2.06-.94-2.06-.94L8.5 2.5l-.94 2.06-2.06.94zm10 10l.94 2.06.94-2.06 2.06-.94-2.06-.94-.94-2.06-.94 2.06-2.06.94z\"/><path d=\"M17.41 7.96l-1.37-1.37c-.4-.4-.92-.59-1.43-.59-.52 0-1.04.2-1.43.59L10.3 9.45l-7.72 7.72c-.78.78-.78 2.05 0 2.83L4 21.41c.39.39.9.59 1.41.59.51 0 1.02-.2 1.41-.59l7.78-7.78 2.81-2.81c.8-.78.8-2.07 0-2.86zM5.41 20L4 18.59l7.72-7.72 1.47 1.35L5.41 20z\"/>\n",
              "  </svg>\n",
              "      </button>\n",
              "      \n",
              "  <style>\n",
              "    .colab-df-container {\n",
              "      display:flex;\n",
              "      flex-wrap:wrap;\n",
              "      gap: 12px;\n",
              "    }\n",
              "\n",
              "    .colab-df-convert {\n",
              "      background-color: #E8F0FE;\n",
              "      border: none;\n",
              "      border-radius: 50%;\n",
              "      cursor: pointer;\n",
              "      display: none;\n",
              "      fill: #1967D2;\n",
              "      height: 32px;\n",
              "      padding: 0 0 0 0;\n",
              "      width: 32px;\n",
              "    }\n",
              "\n",
              "    .colab-df-convert:hover {\n",
              "      background-color: #E2EBFA;\n",
              "      box-shadow: 0px 1px 2px rgba(60, 64, 67, 0.3), 0px 1px 3px 1px rgba(60, 64, 67, 0.15);\n",
              "      fill: #174EA6;\n",
              "    }\n",
              "\n",
              "    [theme=dark] .colab-df-convert {\n",
              "      background-color: #3B4455;\n",
              "      fill: #D2E3FC;\n",
              "    }\n",
              "\n",
              "    [theme=dark] .colab-df-convert:hover {\n",
              "      background-color: #434B5C;\n",
              "      box-shadow: 0px 1px 3px 1px rgba(0, 0, 0, 0.15);\n",
              "      filter: drop-shadow(0px 1px 2px rgba(0, 0, 0, 0.3));\n",
              "      fill: #FFFFFF;\n",
              "    }\n",
              "  </style>\n",
              "\n",
              "      <script>\n",
              "        const buttonEl =\n",
              "          document.querySelector('#df-4bdcd219-cfa7-4721-bd30-653123611d7e button.colab-df-convert');\n",
              "        buttonEl.style.display =\n",
              "          google.colab.kernel.accessAllowed ? 'block' : 'none';\n",
              "\n",
              "        async function convertToInteractive(key) {\n",
              "          const element = document.querySelector('#df-4bdcd219-cfa7-4721-bd30-653123611d7e');\n",
              "          const dataTable =\n",
              "            await google.colab.kernel.invokeFunction('convertToInteractive',\n",
              "                                                     [key], {});\n",
              "          if (!dataTable) return;\n",
              "\n",
              "          const docLinkHtml = 'Like what you see? Visit the ' +\n",
              "            '<a target=\"_blank\" href=https://colab.research.google.com/notebooks/data_table.ipynb>data table notebook</a>'\n",
              "            + ' to learn more about interactive tables.';\n",
              "          element.innerHTML = '';\n",
              "          dataTable['output_type'] = 'display_data';\n",
              "          await google.colab.output.renderOutput(dataTable, element);\n",
              "          const docLink = document.createElement('div');\n",
              "          docLink.innerHTML = docLinkHtml;\n",
              "          element.appendChild(docLink);\n",
              "        }\n",
              "      </script>\n",
              "    </div>\n",
              "  </div>\n",
              "  "
            ]
          },
          "metadata": {},
          "execution_count": 15
        }
      ]
    },
    {
      "cell_type": "code",
      "source": [
        "BTS_tweets = tweet_df.merge(user_df, on='author_id')"
      ],
      "metadata": {
        "id": "YshF8DsaHV5C"
      },
      "execution_count": 16,
      "outputs": []
    },
    {
      "cell_type": "code",
      "source": [
        "BTS_tweets['text'] = BTS_tweets['text'].str.replace('\\n','')\n",
        "BTS_tweets['text'] = BTS_tweets['text'].str.replace('RT','')\n",
        "BTS_tweets['description'] = BTS_tweets['description'].str.replace('\\n', '')"
      ],
      "metadata": {
        "id": "BLY1joyUJvWn"
      },
      "execution_count": 17,
      "outputs": []
    },
    {
      "cell_type": "code",
      "source": [
        "BTS_tweets.head()"
      ],
      "metadata": {
        "id": "rCJinJtk6sbA",
        "colab": {
          "base_uri": "https://localhost:8080/",
          "height": 204
        },
        "outputId": "6bacc81c-e953-4f4e-f77e-795f2bc27cda"
      },
      "execution_count": 43,
      "outputs": [
        {
          "output_type": "execute_result",
          "data": {
            "text/plain": [
              "    author_id                 id_x  \\\n",
              "0  2382210670  1503115309242327044   \n",
              "1  2382210670  1503115296827219968   \n",
              "2  2382210670  1503115285376688137   \n",
              "3  2382210670  1503115274043674628   \n",
              "4  2382210670  1503115229592440837   \n",
              "\n",
              "                                                text  \\\n",
              "0   @ZER0XBLACK: 220314 Jungkook Instagram https:...   \n",
              "1   @ZER0XBLACK: 220314 Jungkook Instagram https:...   \n",
              "2   @ZER0XBLACK: 220314 Jungkook Instagram https:...   \n",
              "3   @ZER0XBLACK: 220314 Jungkook Instagram https:...   \n",
              "4   @ZER0XBLACK: 220314 j-hope Instagram (1~3)uar...   \n",
              "\n",
              "                                         description        id_y  name  \\\n",
              "0  My uWuS Are Always All Over the Place for #Yoo...  2382210670  •ᴗ•⁷   \n",
              "1  My uWuS Are Always All Over the Place for #Yoo...  2382210670  •ᴗ•⁷   \n",
              "2  My uWuS Are Always All Over the Place for #Yoo...  2382210670  •ᴗ•⁷   \n",
              "3  My uWuS Are Always All Over the Place for #Yoo...  2382210670  •ᴗ•⁷   \n",
              "4  My uWuS Are Always All Over the Place for #Yoo...  2382210670  •ᴗ•⁷   \n",
              "\n",
              "       username  \n",
              "0  fairylandkoo  \n",
              "1  fairylandkoo  \n",
              "2  fairylandkoo  \n",
              "3  fairylandkoo  \n",
              "4  fairylandkoo  "
            ],
            "text/html": [
              "\n",
              "  <div id=\"df-6687dfdd-9d83-4830-9626-63c5b4d16e8c\">\n",
              "    <div class=\"colab-df-container\">\n",
              "      <div>\n",
              "<style scoped>\n",
              "    .dataframe tbody tr th:only-of-type {\n",
              "        vertical-align: middle;\n",
              "    }\n",
              "\n",
              "    .dataframe tbody tr th {\n",
              "        vertical-align: top;\n",
              "    }\n",
              "\n",
              "    .dataframe thead th {\n",
              "        text-align: right;\n",
              "    }\n",
              "</style>\n",
              "<table border=\"1\" class=\"dataframe\">\n",
              "  <thead>\n",
              "    <tr style=\"text-align: right;\">\n",
              "      <th></th>\n",
              "      <th>author_id</th>\n",
              "      <th>id_x</th>\n",
              "      <th>text</th>\n",
              "      <th>description</th>\n",
              "      <th>id_y</th>\n",
              "      <th>name</th>\n",
              "      <th>username</th>\n",
              "    </tr>\n",
              "  </thead>\n",
              "  <tbody>\n",
              "    <tr>\n",
              "      <th>0</th>\n",
              "      <td>2382210670</td>\n",
              "      <td>1503115309242327044</td>\n",
              "      <td>@ZER0XBLACK: 220314 Jungkook Instagram https:...</td>\n",
              "      <td>My uWuS Are Always All Over the Place for #Yoo...</td>\n",
              "      <td>2382210670</td>\n",
              "      <td>•ᴗ•⁷</td>\n",
              "      <td>fairylandkoo</td>\n",
              "    </tr>\n",
              "    <tr>\n",
              "      <th>1</th>\n",
              "      <td>2382210670</td>\n",
              "      <td>1503115296827219968</td>\n",
              "      <td>@ZER0XBLACK: 220314 Jungkook Instagram https:...</td>\n",
              "      <td>My uWuS Are Always All Over the Place for #Yoo...</td>\n",
              "      <td>2382210670</td>\n",
              "      <td>•ᴗ•⁷</td>\n",
              "      <td>fairylandkoo</td>\n",
              "    </tr>\n",
              "    <tr>\n",
              "      <th>2</th>\n",
              "      <td>2382210670</td>\n",
              "      <td>1503115285376688137</td>\n",
              "      <td>@ZER0XBLACK: 220314 Jungkook Instagram https:...</td>\n",
              "      <td>My uWuS Are Always All Over the Place for #Yoo...</td>\n",
              "      <td>2382210670</td>\n",
              "      <td>•ᴗ•⁷</td>\n",
              "      <td>fairylandkoo</td>\n",
              "    </tr>\n",
              "    <tr>\n",
              "      <th>3</th>\n",
              "      <td>2382210670</td>\n",
              "      <td>1503115274043674628</td>\n",
              "      <td>@ZER0XBLACK: 220314 Jungkook Instagram https:...</td>\n",
              "      <td>My uWuS Are Always All Over the Place for #Yoo...</td>\n",
              "      <td>2382210670</td>\n",
              "      <td>•ᴗ•⁷</td>\n",
              "      <td>fairylandkoo</td>\n",
              "    </tr>\n",
              "    <tr>\n",
              "      <th>4</th>\n",
              "      <td>2382210670</td>\n",
              "      <td>1503115229592440837</td>\n",
              "      <td>@ZER0XBLACK: 220314 j-hope Instagram (1~3)uar...</td>\n",
              "      <td>My uWuS Are Always All Over the Place for #Yoo...</td>\n",
              "      <td>2382210670</td>\n",
              "      <td>•ᴗ•⁷</td>\n",
              "      <td>fairylandkoo</td>\n",
              "    </tr>\n",
              "  </tbody>\n",
              "</table>\n",
              "</div>\n",
              "      <button class=\"colab-df-convert\" onclick=\"convertToInteractive('df-6687dfdd-9d83-4830-9626-63c5b4d16e8c')\"\n",
              "              title=\"Convert this dataframe to an interactive table.\"\n",
              "              style=\"display:none;\">\n",
              "        \n",
              "  <svg xmlns=\"http://www.w3.org/2000/svg\" height=\"24px\"viewBox=\"0 0 24 24\"\n",
              "       width=\"24px\">\n",
              "    <path d=\"M0 0h24v24H0V0z\" fill=\"none\"/>\n",
              "    <path d=\"M18.56 5.44l.94 2.06.94-2.06 2.06-.94-2.06-.94-.94-2.06-.94 2.06-2.06.94zm-11 1L8.5 8.5l.94-2.06 2.06-.94-2.06-.94L8.5 2.5l-.94 2.06-2.06.94zm10 10l.94 2.06.94-2.06 2.06-.94-2.06-.94-.94-2.06-.94 2.06-2.06.94z\"/><path d=\"M17.41 7.96l-1.37-1.37c-.4-.4-.92-.59-1.43-.59-.52 0-1.04.2-1.43.59L10.3 9.45l-7.72 7.72c-.78.78-.78 2.05 0 2.83L4 21.41c.39.39.9.59 1.41.59.51 0 1.02-.2 1.41-.59l7.78-7.78 2.81-2.81c.8-.78.8-2.07 0-2.86zM5.41 20L4 18.59l7.72-7.72 1.47 1.35L5.41 20z\"/>\n",
              "  </svg>\n",
              "      </button>\n",
              "      \n",
              "  <style>\n",
              "    .colab-df-container {\n",
              "      display:flex;\n",
              "      flex-wrap:wrap;\n",
              "      gap: 12px;\n",
              "    }\n",
              "\n",
              "    .colab-df-convert {\n",
              "      background-color: #E8F0FE;\n",
              "      border: none;\n",
              "      border-radius: 50%;\n",
              "      cursor: pointer;\n",
              "      display: none;\n",
              "      fill: #1967D2;\n",
              "      height: 32px;\n",
              "      padding: 0 0 0 0;\n",
              "      width: 32px;\n",
              "    }\n",
              "\n",
              "    .colab-df-convert:hover {\n",
              "      background-color: #E2EBFA;\n",
              "      box-shadow: 0px 1px 2px rgba(60, 64, 67, 0.3), 0px 1px 3px 1px rgba(60, 64, 67, 0.15);\n",
              "      fill: #174EA6;\n",
              "    }\n",
              "\n",
              "    [theme=dark] .colab-df-convert {\n",
              "      background-color: #3B4455;\n",
              "      fill: #D2E3FC;\n",
              "    }\n",
              "\n",
              "    [theme=dark] .colab-df-convert:hover {\n",
              "      background-color: #434B5C;\n",
              "      box-shadow: 0px 1px 3px 1px rgba(0, 0, 0, 0.15);\n",
              "      filter: drop-shadow(0px 1px 2px rgba(0, 0, 0, 0.3));\n",
              "      fill: #FFFFFF;\n",
              "    }\n",
              "  </style>\n",
              "\n",
              "      <script>\n",
              "        const buttonEl =\n",
              "          document.querySelector('#df-6687dfdd-9d83-4830-9626-63c5b4d16e8c button.colab-df-convert');\n",
              "        buttonEl.style.display =\n",
              "          google.colab.kernel.accessAllowed ? 'block' : 'none';\n",
              "\n",
              "        async function convertToInteractive(key) {\n",
              "          const element = document.querySelector('#df-6687dfdd-9d83-4830-9626-63c5b4d16e8c');\n",
              "          const dataTable =\n",
              "            await google.colab.kernel.invokeFunction('convertToInteractive',\n",
              "                                                     [key], {});\n",
              "          if (!dataTable) return;\n",
              "\n",
              "          const docLinkHtml = 'Like what you see? Visit the ' +\n",
              "            '<a target=\"_blank\" href=https://colab.research.google.com/notebooks/data_table.ipynb>data table notebook</a>'\n",
              "            + ' to learn more about interactive tables.';\n",
              "          element.innerHTML = '';\n",
              "          dataTable['output_type'] = 'display_data';\n",
              "          await google.colab.output.renderOutput(dataTable, element);\n",
              "          const docLink = document.createElement('div');\n",
              "          docLink.innerHTML = docLinkHtml;\n",
              "          element.appendChild(docLink);\n",
              "        }\n",
              "      </script>\n",
              "    </div>\n",
              "  </div>\n",
              "  "
            ]
          },
          "metadata": {},
          "execution_count": 43
        }
      ]
    },
    {
      "cell_type": "code",
      "source": [
        "BTS_tweets_df = BTS_tweets.to_csv "
      ],
      "metadata": {
        "id": "BK9pnRAnE56J"
      },
      "execution_count": 19,
      "outputs": []
    },
    {
      "cell_type": "code",
      "source": [
        "corpus_lower_desc = BTS_tweets['description'].str.lower().to_list()"
      ],
      "metadata": {
        "id": "t1J7CZca9YNi"
      },
      "execution_count": 20,
      "outputs": []
    },
    {
      "cell_type": "code",
      "source": [
        "def cleaning_function(string): \n",
        "  string_nostops = [word for word in wordpunct_tokenize(string) if word not in stopwords_list]\n",
        "  string_cleaned = [token for token in string_nostops if token.isalpha() and len(token) > 1]\n",
        "  return string_cleaned"
      ],
      "metadata": {
        "id": "D4W4wa_MuNdI"
      },
      "execution_count": 21,
      "outputs": []
    },
    {
      "cell_type": "code",
      "source": [
        "corpus_cleaned_desc = [cleaning_function(desc) for desc in corpus_lower_desc]"
      ],
      "metadata": {
        "id": "aexnkPAl-Tf3"
      },
      "execution_count": 22,
      "outputs": []
    },
    {
      "cell_type": "code",
      "source": [
        "corpus_dict_desc = corpora.Dictionary(corpus_cleaned_desc)"
      ],
      "metadata": {
        "id": "Zcu7TNhdagZS"
      },
      "execution_count": 23,
      "outputs": []
    },
    {
      "cell_type": "code",
      "source": [
        "first_entries = {k: corpus_dict_desc[k] for k in corpus_dict_desc.keys()[:6]}\n",
        "print(first_entries)"
      ],
      "metadata": {
        "id": "jA7rhBfPXLb4",
        "colab": {
          "base_uri": "https://localhost:8080/"
        },
        "outputId": "42ccdf48-14f7-4e2b-fa66-3f10b35d3c39"
      },
      "execution_count": 24,
      "outputs": [
        {
          "output_type": "stream",
          "name": "stdout",
          "text": [
            "{0: 'always', 1: 'bts', 2: 'place', 3: 'uwus', 4: 'yoonkook', 5: '가까워졌어'}\n"
          ]
        }
      ]
    },
    {
      "cell_type": "code",
      "source": [
        "lower_bound = round(BTS_tweets.description.shape[0]*0.05)\n",
        "upper_bound = round(BTS_tweets.description.shape[0]*0.95)"
      ],
      "metadata": {
        "id": "FthhI-vTYcH7"
      },
      "execution_count": 25,
      "outputs": []
    },
    {
      "cell_type": "code",
      "source": [
        "corpus_dict_desc.filter_extremes(no_below = lower_bound,\n",
        "                             no_above = upper_bound)"
      ],
      "metadata": {
        "id": "MS11YjgMYxLx"
      },
      "execution_count": 26,
      "outputs": []
    },
    {
      "cell_type": "code",
      "source": [
        "corpus_fromdict_desc = [corpus_dict_desc.doc2bow(one_text) for one_text in corpus_cleaned_desc]"
      ],
      "metadata": {
        "id": "QcMKYLlvZP_T"
      },
      "execution_count": 27,
      "outputs": []
    },
    {
      "cell_type": "code",
      "source": [
        "lda_model = gensim.models.ldamodel.LdaModel(corpus_fromdict_desc, \n",
        "                                         num_topics = 6, id2word=corpus_dict_desc, \n",
        "                                         passes = 2, alpha = 'auto',\n",
        "                                        per_word_topics = True)\n"
      ],
      "metadata": {
        "id": "DAgZVMEUlIYC"
      },
      "execution_count": null,
      "outputs": []
    },
    {
      "cell_type": "code",
      "source": [
        "topics_desc = lda_model.print_topics(num_words = 10)\n",
        "for topic in topics_desc:\n",
        "    print(topic)"
      ],
      "metadata": {
        "id": "TuFEPDtGn-xO",
        "colab": {
          "base_uri": "https://localhost:8080/"
        },
        "outputId": "9765c6c8-de21-4974-f694-043d216ac550"
      },
      "execution_count": 29,
      "outputs": [
        {
          "output_type": "stream",
          "name": "stdout",
          "text": [
            "(0, '0.524*\"love\" + 0.236*\"bts\" + 0.122*\"army\" + 0.036*\"fan\" + 0.010*\"yoongi\" + 0.010*\"always\" + 0.010*\"우린\" + 0.010*\"place\" + 0.010*\"가까워졌어\" + 0.010*\"yoonkook\"')\n",
            "(1, '0.202*\"bts\" + 0.178*\"always\" + 0.113*\"army\" + 0.112*\"fan\" + 0.068*\"우린\" + 0.064*\"yoonkook\" + 0.063*\"place\" + 0.056*\"uwus\" + 0.053*\"가까워졌어\" + 0.052*\"가족보다\"')\n",
            "(2, '0.539*\"army\" + 0.335*\"bts\" + 0.013*\"yoongi\" + 0.013*\"love\" + 0.013*\"fan\" + 0.013*\"always\" + 0.013*\"가까워졌어\" + 0.013*\"가족보다\" + 0.013*\"yoonkook\" + 0.013*\"우린\"')\n",
            "(3, '0.502*\"bts\" + 0.200*\"fan\" + 0.156*\"army\" + 0.061*\"love\" + 0.010*\"yoongi\" + 0.010*\"always\" + 0.010*\"yoonkook\" + 0.010*\"place\" + 0.010*\"우린\" + 0.010*\"가족보다\"')\n",
            "(4, '0.162*\"bts\" + 0.107*\"가족보다\" + 0.107*\"가까워졌어\" + 0.107*\"uwus\" + 0.105*\"place\" + 0.105*\"yoonkook\" + 0.104*\"always\" + 0.104*\"우린\" + 0.041*\"love\" + 0.041*\"yoongi\"')\n",
            "(5, '0.480*\"yoongi\" + 0.187*\"fan\" + 0.171*\"army\" + 0.019*\"bts\" + 0.018*\"love\" + 0.018*\"always\" + 0.018*\"yoonkook\" + 0.018*\"우린\" + 0.018*\"가족보다\" + 0.018*\"가까워졌어\"')\n"
          ]
        }
      ]
    },
    {
      "cell_type": "code",
      "source": [
        "topic_probability = [lda_model.get_document_topics(item) for item in corpus_fromdict_desc]\n",
        "\n",
        "corpus_cleaned_desc[0:5]\n",
        "topic_probability[0:5]"
      ],
      "metadata": {
        "id": "AyQwmleZof27"
      },
      "execution_count": null,
      "outputs": []
    },
    {
      "cell_type": "code",
      "source": [
        "pyLDAvis.enable_notebook()\n",
        "lda_display = gensimvis.prepare(lda_model, corpus_fromdict_desc, corpus_dict_desc)\n",
        "pyLDAvis.display(lda_display)"
      ],
      "metadata": {
        "id": "7bH0s9sQpWpB",
        "colab": {
          "base_uri": "https://localhost:8080/",
          "height": 915
        },
        "outputId": "8fb7ebb3-f966-44e2-b4b6-e0a014fd4e69"
      },
      "execution_count": 31,
      "outputs": [
        {
          "output_type": "stream",
          "name": "stderr",
          "text": [
            "/usr/local/lib/python3.7/dist-packages/pyLDAvis/_prepare.py:247: FutureWarning: In a future version of pandas all arguments of DataFrame.drop except for the argument 'labels' will be keyword-only\n",
            "  by='saliency', ascending=False).head(R).drop('saliency', 1)\n"
          ]
        },
        {
          "output_type": "execute_result",
          "data": {
            "text/plain": [
              "<IPython.core.display.HTML object>"
            ],
            "text/html": [
              "\n",
              "<link rel=\"stylesheet\" type=\"text/css\" href=\"https://cdn.jsdelivr.net/gh/bmabey/pyLDAvis@3.3.1/pyLDAvis/js/ldavis.v1.0.0.css\">\n",
              "\n",
              "\n",
              "<div id=\"ldavis_el591406974005859363383425042\"></div>\n",
              "<script type=\"text/javascript\">\n",
              "\n",
              "var ldavis_el591406974005859363383425042_data = {\"mdsDat\": {\"x\": [-0.1260606327558712, 0.09071234773778573, 0.09915429303732169, 0.15425823269899508, -0.15022825058143538, -0.06783599013679571], \"y\": [0.17415908006303743, -0.03561777124485634, -0.04393402019480451, 0.03519803787081728, -0.18577912718555822, 0.0559738006913645], \"topics\": [1, 2, 3, 4, 5, 6], \"cluster\": [1, 1, 1, 1, 1, 1], \"Freq\": [40.91357411316724, 15.78280203919095, 15.741109148862675, 15.675105610794207, 7.409640438634864, 4.47776864935006]}, \"tinfo\": {\"Term\": [\"love\", \"yoongi\", \"army\", \"bts\", \"always\", \"fan\", \"\\uc6b0\\ub9b0\", \"yoonkook\", \"place\", \"uwus\", \"\\uac00\\uae4c\\uc6cc\\uc84c\\uc5b4\", \"\\uac00\\uc871\\ubcf4\\ub2e4\", \"\\uac00\\uc871\\ubcf4\\ub2e4\", \"\\uac00\\uae4c\\uc6cc\\uc84c\\uc5b4\", \"uwus\", \"place\", \"yoonkook\", \"\\uc6b0\\ub9b0\", \"always\", \"yoongi\", \"bts\", \"love\", \"army\", \"fan\", \"fan\", \"bts\", \"army\", \"love\", \"\\uc6b0\\ub9b0\", \"yoonkook\", \"place\", \"uwus\", \"\\uac00\\uae4c\\uc6cc\\uc84c\\uc5b4\", \"\\uac00\\uc871\\ubcf4\\ub2e4\", \"yoongi\", \"always\", \"army\", \"bts\", \"\\uc6b0\\ub9b0\", \"yoonkook\", \"place\", \"uwus\", \"\\uac00\\uae4c\\uc6cc\\uc84c\\uc5b4\", \"\\uac00\\uc871\\ubcf4\\ub2e4\", \"always\", \"yoongi\", \"fan\", \"love\", \"love\", \"bts\", \"army\", \"fan\", \"\\uc6b0\\ub9b0\", \"place\", \"yoonkook\", \"uwus\", \"\\uac00\\uae4c\\uc6cc\\uc84c\\uc5b4\", \"\\uac00\\uc871\\ubcf4\\ub2e4\", \"always\", \"yoongi\", \"yoongi\", \"fan\", \"army\", \"\\uc6b0\\ub9b0\", \"yoonkook\", \"place\", \"uwus\", \"\\uac00\\uae4c\\uc6cc\\uc84c\\uc5b4\", \"\\uac00\\uc871\\ubcf4\\ub2e4\", \"always\", \"love\", \"bts\", \"always\", \"fan\", \"\\uc6b0\\ub9b0\", \"yoonkook\", \"place\", \"uwus\", \"\\uac00\\uae4c\\uc6cc\\uc84c\\uc5b4\", \"\\uac00\\uc871\\ubcf4\\ub2e4\", \"bts\", \"army\", \"yoongi\", \"love\"], \"Freq\": [11.0, 5.0, 14.0, 24.0, 5.0, 5.0, 5.0, 5.0, 5.0, 5.0, 5.0, 5.0, 4.303518815430116, 4.293685411950879, 4.272665343220038, 4.215960090158538, 4.210690435044957, 4.175988979415489, 4.177292950196146, 1.634798175274106, 6.491043467995699, 1.644088481644699, 0.5252702746599386, 0.150299109478313, 3.093015990417026, 7.757337150882541, 2.4178188125775484, 0.9441705245892095, 0.156055896895965, 0.1563104459227084, 0.1560806445179414, 0.1559788162643027, 0.15596255312972102, 0.15603125010830396, 0.1613375983359369, 0.15704714143092596, 8.313538002489162, 5.167634307274197, 0.19307999497299705, 0.19313412926100448, 0.19300580456342423, 0.1930261767556733, 0.1933020489951422, 0.1931577052606383, 0.19418767905085618, 0.19832020267222628, 0.1968229614767128, 0.1970786051924252, 8.047538008989319, 3.628332067948276, 1.8789689026005865, 0.5530639397545517, 0.1562425527437134, 0.1562392622238537, 0.15605024331782527, 0.15598208663690494, 0.1561439372941786, 0.15602124382323554, 0.1569339768058878, 0.1600871675345869, 3.482837718489656, 1.3566386135209654, 1.2389221819825087, 0.13041591588875012, 0.1305049001543768, 0.13031682807449554, 0.13033666998324678, 0.13034147153580755, 0.13040166001156964, 0.1314023982437404, 0.1322639861301493, 0.1370657686244467, 0.7825939011144382, 0.49364213463845785, 0.2988939089324733, 0.2797206691513358, 0.27701822030715695, 0.24603467716685695, 0.23429265676510957, 0.22894226120268496, 0.8862864352914778, 0.4945015811797905, 0.08366426981769634, 0.08262290158816768], \"Total\": [11.0, 5.0, 14.0, 24.0, 5.0, 5.0, 5.0, 5.0, 5.0, 5.0, 5.0, 5.0, 5.168072935836549, 5.163728079670838, 5.154023770027021, 5.12862084984541, 5.126410822852207, 5.110677248849388, 5.599458046841995, 5.721045132124209, 24.067699198016633, 11.047762508133971, 14.869019755489536, 5.843482749286027, 5.843482749286027, 24.067699198016633, 14.869019755489536, 11.047762508133971, 5.110677248849388, 5.126410822852207, 5.12862084984541, 5.154023770027021, 5.163728079670838, 5.168072935836549, 5.721045132124209, 5.599458046841995, 14.869019755489536, 24.067699198016633, 5.110677248849388, 5.126410822852207, 5.12862084984541, 5.154023770027021, 5.163728079670838, 5.168072935836549, 5.599458046841995, 5.721045132124209, 5.843482749286027, 11.047762508133971, 11.047762508133971, 24.067699198016633, 14.869019755489536, 5.843482749286027, 5.110677248849388, 5.12862084984541, 5.126410822852207, 5.154023770027021, 5.163728079670838, 5.168072935836549, 5.599458046841995, 5.721045132124209, 5.721045132124209, 5.843482749286027, 14.869019755489536, 5.110677248849388, 5.126410822852207, 5.12862084984541, 5.154023770027021, 5.163728079670838, 5.168072935836549, 5.599458046841995, 11.047762508133971, 24.067699198016633, 5.599458046841995, 5.843482749286027, 5.110677248849388, 5.126410822852207, 5.12862084984541, 5.154023770027021, 5.163728079670838, 5.168072935836549, 24.067699198016633, 14.869019755489536, 5.721045132124209, 11.047762508133971], \"Category\": [\"Default\", \"Default\", \"Default\", \"Default\", \"Default\", \"Default\", \"Default\", \"Default\", \"Default\", \"Default\", \"Default\", \"Default\", \"Topic1\", \"Topic1\", \"Topic1\", \"Topic1\", \"Topic1\", \"Topic1\", \"Topic1\", \"Topic1\", \"Topic1\", \"Topic1\", \"Topic1\", \"Topic1\", \"Topic2\", \"Topic2\", \"Topic2\", \"Topic2\", \"Topic2\", \"Topic2\", \"Topic2\", \"Topic2\", \"Topic2\", \"Topic2\", \"Topic2\", \"Topic2\", \"Topic3\", \"Topic3\", \"Topic3\", \"Topic3\", \"Topic3\", \"Topic3\", \"Topic3\", \"Topic3\", \"Topic3\", \"Topic3\", \"Topic3\", \"Topic3\", \"Topic4\", \"Topic4\", \"Topic4\", \"Topic4\", \"Topic4\", \"Topic4\", \"Topic4\", \"Topic4\", \"Topic4\", \"Topic4\", \"Topic4\", \"Topic4\", \"Topic5\", \"Topic5\", \"Topic5\", \"Topic5\", \"Topic5\", \"Topic5\", \"Topic5\", \"Topic5\", \"Topic5\", \"Topic5\", \"Topic5\", \"Topic5\", \"Topic6\", \"Topic6\", \"Topic6\", \"Topic6\", \"Topic6\", \"Topic6\", \"Topic6\", \"Topic6\", \"Topic6\", \"Topic6\", \"Topic6\", \"Topic6\"], \"logprob\": [12.0, 11.0, 10.0, 9.0, 8.0, 7.0, 6.0, 5.0, 4.0, 3.0, 2.0, 1.0, -2.2318, -2.2341, -2.239, -2.2524, -2.2536, -2.2619, -2.2616, -3.1997, -1.8208, -3.1941, -4.3351, -5.5864, -1.6096, -0.6901, -1.8559, -2.7962, -4.5963, -4.5946, -4.5961, -4.5968, -4.5969, -4.5964, -4.563, -4.5899, -0.6182, -1.0937, -4.3807, -4.3804, -4.3811, -4.381, -4.3796, -4.3803, -4.375, -4.3539, -4.3615, -4.3602, -0.6465, -1.4431, -2.1011, -3.3242, -4.5882, -4.5882, -4.5894, -4.5899, -4.5888, -4.5896, -4.5838, -4.5639, -0.7347, -1.6776, -1.7683, -4.0196, -4.0189, -4.0204, -4.0202, -4.0202, -4.0197, -4.0121, -4.0055, -3.9699, -1.7241, -2.1849, -2.6866, -2.7529, -2.7626, -2.8812, -2.9301, -2.9532, -1.5996, -2.1831, -3.9599, -3.9724], \"loglift\": [12.0, 11.0, 10.0, 9.0, 8.0, 7.0, 6.0, 5.0, 4.0, 3.0, 2.0, 1.0, 0.7106, 0.7092, 0.7062, 0.6977, 0.6969, 0.6917, 0.6007, -0.3589, -0.4167, -1.0113, -2.4494, -2.7667, 1.2101, 0.714, 0.0298, -0.6134, -1.6426, -1.6441, -1.646, -1.6516, -1.6535, -1.6539, -1.7222, -1.7276, 1.2675, 0.3104, -1.4271, -1.4299, -1.431, -1.4358, -1.4363, -1.4379, -1.5127, -1.5131, -1.5419, -2.1775, 1.5362, -0.039, -0.2155, -0.5045, -1.6346, -1.6381, -1.6389, -1.6447, -1.6455, -1.6472, -1.7215, -1.7231, 2.1061, 1.1421, 0.1174, -1.066, -1.0684, -1.0702, -1.075, -1.0769, -1.0772, -1.1498, -1.8228, -2.5658, 1.1382, 0.6348, 0.267, 0.1977, 0.1875, 0.064, 0.0132, -0.0107, -0.1955, -0.2974, -1.119, -1.7897]}, \"token.table\": {\"Topic\": [1, 6, 1, 2, 3, 4, 5, 1, 2, 3, 4, 6, 2, 4, 5, 1, 2, 4, 1, 1, 1, 5, 1, 1, 1, 1], \"Freq\": [0.7143548476545754, 0.17858871191364384, 0.06725392907160589, 0.13450785814321178, 0.5380314325728471, 0.13450785814321178, 0.06725392907160589, 0.2492967836532728, 0.3323957115376971, 0.20774731971106067, 0.16619785576884855, 0.041549463942212136, 0.513392462802521, 0.17113082093417367, 0.17113082093417367, 0.18103213193870613, 0.09051606596935306, 0.7241285277548245, 0.7799367738639854, 0.7760926566271985, 0.3495864748155562, 0.5243797122233342, 0.7802730093673024, 0.7746341283437567, 0.7739828848511646, 0.7826751338876966], \"Term\": [\"always\", \"always\", \"army\", \"army\", \"army\", \"army\", \"army\", \"bts\", \"bts\", \"bts\", \"bts\", \"bts\", \"fan\", \"fan\", \"fan\", \"love\", \"love\", \"love\", \"place\", \"uwus\", \"yoongi\", \"yoongi\", \"yoonkook\", \"\\uac00\\uae4c\\uc6cc\\uc84c\\uc5b4\", \"\\uac00\\uc871\\ubcf4\\ub2e4\", \"\\uc6b0\\ub9b0\"]}, \"R\": 12, \"lambda.step\": 0.01, \"plot.opts\": {\"xlab\": \"PC1\", \"ylab\": \"PC2\"}, \"topic.order\": [5, 4, 3, 1, 6, 2]};\n",
              "\n",
              "function LDAvis_load_lib(url, callback){\n",
              "  var s = document.createElement('script');\n",
              "  s.src = url;\n",
              "  s.async = true;\n",
              "  s.onreadystatechange = s.onload = callback;\n",
              "  s.onerror = function(){console.warn(\"failed to load library \" + url);};\n",
              "  document.getElementsByTagName(\"head\")[0].appendChild(s);\n",
              "}\n",
              "\n",
              "if(typeof(LDAvis) !== \"undefined\"){\n",
              "   // already loaded: just create the visualization\n",
              "   !function(LDAvis){\n",
              "       new LDAvis(\"#\" + \"ldavis_el591406974005859363383425042\", ldavis_el591406974005859363383425042_data);\n",
              "   }(LDAvis);\n",
              "}else if(typeof define === \"function\" && define.amd){\n",
              "   // require.js is available: use it to load d3/LDAvis\n",
              "   require.config({paths: {d3: \"https://d3js.org/d3.v5\"}});\n",
              "   require([\"d3\"], function(d3){\n",
              "      window.d3 = d3;\n",
              "      LDAvis_load_lib(\"https://cdn.jsdelivr.net/gh/bmabey/pyLDAvis@3.3.1/pyLDAvis/js/ldavis.v3.0.0.js\", function(){\n",
              "        new LDAvis(\"#\" + \"ldavis_el591406974005859363383425042\", ldavis_el591406974005859363383425042_data);\n",
              "      });\n",
              "    });\n",
              "}else{\n",
              "    // require.js not available: dynamically load d3 & LDAvis\n",
              "    LDAvis_load_lib(\"https://d3js.org/d3.v5.js\", function(){\n",
              "         LDAvis_load_lib(\"https://cdn.jsdelivr.net/gh/bmabey/pyLDAvis@3.3.1/pyLDAvis/js/ldavis.v3.0.0.js\", function(){\n",
              "                 new LDAvis(\"#\" + \"ldavis_el591406974005859363383425042\", ldavis_el591406974005859363383425042_data);\n",
              "            })\n",
              "         });\n",
              "}\n",
              "</script>"
            ]
          },
          "metadata": {},
          "execution_count": 31
        }
      ]
    },
    {
      "cell_type": "code",
      "source": [
        "corpus_lower_text = BTS_tweets['text'].str.lower().to_list()"
      ],
      "metadata": {
        "id": "I3-xR-17H3XE"
      },
      "execution_count": 32,
      "outputs": []
    },
    {
      "cell_type": "code",
      "source": [
        "corpus_cleaned_text = [cleaning_function(text) for text in corpus_lower_text]"
      ],
      "metadata": {
        "id": "Ll26y-LMH9Al"
      },
      "execution_count": 33,
      "outputs": []
    },
    {
      "cell_type": "code",
      "source": [
        "corpus_dict_text = corpora.Dictionary(corpus_cleaned_text)"
      ],
      "metadata": {
        "id": "0tcTVRW5ILf2"
      },
      "execution_count": 34,
      "outputs": []
    },
    {
      "cell_type": "code",
      "source": [
        "{k: corpus_dict_text[k] for k in corpus_dict_text.keys()[:6]}"
      ],
      "metadata": {
        "id": "zOVviPDrIP9v",
        "colab": {
          "base_uri": "https://localhost:8080/"
        },
        "outputId": "34d55955-c338-494c-83b2-e15cf7b12505"
      },
      "execution_count": 35,
      "outputs": [
        {
          "output_type": "execute_result",
          "data": {
            "text/plain": [
              "{0: 'bts', 1: 'co', 2: 'https', 3: 'instagram', 4: 'jungkook', 5: '방탄소년단'}"
            ]
          },
          "metadata": {},
          "execution_count": 35
        }
      ]
    },
    {
      "cell_type": "code",
      "source": [
        "corpus_dict_text.filter_extremes(no_below = lower_bound,\n",
        "                             no_above = upper_bound)"
      ],
      "metadata": {
        "id": "hm1Z2kO-Ip6T"
      },
      "execution_count": 36,
      "outputs": []
    },
    {
      "cell_type": "code",
      "source": [
        "corpus_fromdict_text = [corpus_dict_text.doc2bow(one_text) for one_text in corpus_cleaned_text]"
      ],
      "metadata": {
        "id": "LX7bdCP4IsXa"
      },
      "execution_count": 37,
      "outputs": []
    },
    {
      "cell_type": "code",
      "source": [
        "lda_model_text = gensim.models.ldamodel.LdaModel(corpus_fromdict_text, \n",
        "                                         num_topics = 3, id2word=corpus_dict_text, \n",
        "                                         passes = 2, alpha = 'auto',\n",
        "                                        per_word_topics = True)"
      ],
      "metadata": {
        "id": "xyur7K0oI6Wm"
      },
      "execution_count": null,
      "outputs": []
    },
    {
      "cell_type": "code",
      "source": [
        "topics_text = lda_model_text.print_topics(num_words = 10)\n",
        "for topic in topics_text:\n",
        "    print(topic)"
      ],
      "metadata": {
        "id": "dFOJ5zO7JFqJ",
        "colab": {
          "base_uri": "https://localhost:8080/"
        },
        "outputId": "f22d9309-fdb3-412b-90ce-6f11ab38d8b8"
      },
      "execution_count": 39,
      "outputs": [
        {
          "output_type": "stream",
          "name": "stdout",
          "text": [
            "(0, '0.115*\"bts\" + 0.071*\"best\" + 0.063*\"listen\" + 0.060*\"song\" + 0.058*\"selling\" + 0.046*\"presale\" + 0.045*\"army\" + 0.043*\"nft\" + 0.043*\"bytaetear\" + 0.027*\"giving\"')\n",
            "(1, '0.190*\"https\" + 0.184*\"co\" + 0.150*\"bts\" + 0.091*\"instagram\" + 0.081*\"jungkook\" + 0.078*\"방탄소년단\" + 0.023*\"cvsqetecql\" + 0.023*\"update\" + 0.013*\"jimin\" + 0.013*\"btsdailyinfo\"')\n",
            "(2, '0.140*\"bts\" + 0.077*\"jungkook\" + 0.070*\"stayalive\" + 0.064*\"song\" + 0.062*\"suga\" + 0.045*\"stage\" + 0.043*\"seoul\" + 0.042*\"record\" + 0.042*\"breaking\" + 0.040*\"btshtstweets\"')\n"
          ]
        }
      ]
    },
    {
      "cell_type": "code",
      "source": [
        "topic_probability_text = [lda_model_text.get_document_topics(item) for item in corpus_fromdict_text]\n",
        "\n",
        "corpus_cleaned_text[0:5]\n",
        "topic_probability_text[0:5]"
      ],
      "metadata": {
        "id": "w7ikQZT4JRJA",
        "colab": {
          "base_uri": "https://localhost:8080/"
        },
        "outputId": "ba2c3653-7e02-49b5-82a5-c59f944253f0"
      },
      "execution_count": 40,
      "outputs": [
        {
          "output_type": "execute_result",
          "data": {
            "text/plain": [
              "[[(0, 0.022342259), (1, 0.9524933), (2, 0.025164481)],\n",
              " [(0, 0.022342253), (1, 0.95249414), (2, 0.025163556)],\n",
              " [(0, 0.022342253), (1, 0.95249426), (2, 0.025163429)],\n",
              " [(0, 0.022342259), (1, 0.9524935), (2, 0.02516425)],\n",
              " [(0, 0.02234452), (1, 0.22731511), (2, 0.75034034)]]"
            ]
          },
          "metadata": {},
          "execution_count": 40
        }
      ]
    },
    {
      "cell_type": "code",
      "source": [
        "pyLDAvis.enable_notebook()\n",
        "lda_display_text = gensimvis.prepare(lda_model_text, corpus_fromdict_text, corpus_dict_text)\n",
        "pyLDAvis.display(lda_display_text)"
      ],
      "metadata": {
        "id": "TMHW1rSMJYVY",
        "colab": {
          "base_uri": "https://localhost:8080/",
          "height": 915
        },
        "outputId": "a191509c-dc77-479b-8d9c-f84564301664"
      },
      "execution_count": 41,
      "outputs": [
        {
          "output_type": "stream",
          "name": "stderr",
          "text": [
            "/usr/local/lib/python3.7/dist-packages/pyLDAvis/_prepare.py:247: FutureWarning: In a future version of pandas all arguments of DataFrame.drop except for the argument 'labels' will be keyword-only\n",
            "  by='saliency', ascending=False).head(R).drop('saliency', 1)\n"
          ]
        },
        {
          "output_type": "execute_result",
          "data": {
            "text/plain": [
              "<IPython.core.display.HTML object>"
            ],
            "text/html": [
              "\n",
              "<link rel=\"stylesheet\" type=\"text/css\" href=\"https://cdn.jsdelivr.net/gh/bmabey/pyLDAvis@3.3.1/pyLDAvis/js/ldavis.v1.0.0.css\">\n",
              "\n",
              "\n",
              "<div id=\"ldavis_el591406973734203689087149886\"></div>\n",
              "<script type=\"text/javascript\">\n",
              "\n",
              "var ldavis_el591406973734203689087149886_data = {\"mdsDat\": {\"x\": [0.1634636494862145, -0.14792017597670382, -0.015543473509510615], \"y\": [-0.06473102977168006, -0.08753289054658796, 0.15226392031826802], \"topics\": [1, 2, 3], \"cluster\": [1, 1, 1], \"Freq\": [52.594945307473694, 24.271928089794017, 23.13312660273229]}, \"tinfo\": {\"Term\": [\"https\", \"song\", \"stayalive\", \"co\", \"best\", \"selling\", \"suga\", \"listen\", \"\\ubc29\\ud0c4\\uc18c\\ub144\\ub2e8\", \"bytaetear\", \"record\", \"army\", \"breaking\", \"jungkook\", \"presale\", \"stage\", \"nft\", \"seoul\", \"btshtstweets\", \"instagram\", \"listening\", \"prod\", \"dance\", \"btstrendingsong\", \"permission\", \"bts\", \"giving\", \"join\", \"pinkecosystem\", \"right\", \"https\", \"\\ubc29\\ud0c4\\uc18c\\ub144\\ub2e8\", \"cvsqetecql\", \"co\", \"instagram\", \"update\", \"jimin\", \"btsdailyinfo\", \"jungkook\", \"bts\", \"butter\", \"day\", \"seoul\", \"stage\", \"presale\", \"check\", \"marketplace\", \"available\", \"bookensquad\", \"bortoken\", \"bortokentothemoon\", \"bortokenshillsquad\", \"tg\", \"right\", \"join\", \"pinkecosystem\", \"giving\", \"nft\", \"dance\", \"suga\", \"listen\", \"best\", \"bytaetear\", \"selling\", \"army\", \"best\", \"nft\", \"giving\", \"join\", \"pinkecosystem\", \"right\", \"listen\", \"tg\", \"bortokenshillsquad\", \"bortokentothemoon\", \"bortoken\", \"bookensquad\", \"presale\", \"available\", \"check\", \"marketplace\", \"song\", \"btstrendingsong\", \"bts\", \"listening\", \"butter\", \"stayalive\", \"suga\", \"btshtstweets\", \"btsdailyinfo\", \"jimin\", \"day\", \"co\", \"https\", \"jungkook\", \"\\ubc29\\ud0c4\\uc18c\\ub144\\ub2e8\", \"record\", \"breaking\", \"prod\", \"stayalive\", \"listening\", \"permission\", \"btshtstweets\", \"dance\", \"suga\", \"btstrendingsong\", \"stage\", \"seoul\", \"day\", \"song\", \"butter\", \"jungkook\", \"bts\", \"listen\", \"best\", \"selling\", \"instagram\", \"btsdailyinfo\", \"update\", \"giving\", \"pinkecosystem\", \"jimin\", \"available\", \"right\", \"tg\", \"marketplace\", \"army\", \"co\", \"nft\", \"https\", \"\\ubc29\\ud0c4\\uc18c\\ub144\\ub2e8\", \"presale\"], \"Freq\": [67.0, 20.0, 12.0, 69.0, 14.0, 10.0, 12.0, 14.0, 27.0, 7.0, 6.0, 8.0, 6.0, 40.0, 10.0, 10.0, 9.0, 10.0, 7.0, 35.0, 7.0, 5.0, 6.0, 8.0, 5.0, 90.0, 6.0, 6.0, 6.0, 6.0, 64.44219910115875, 26.35051883267273, 7.9777098450040125, 62.40953337694157, 30.907381392278072, 7.666989586273791, 4.551461744727307, 4.437203246844384, 27.54313317856939, 51.007472741598086, 4.2784320098869815, 2.011739306925798, 3.5573975928977126, 3.391403541292661, 3.3064277250144025, 1.7101985032696576, 1.6952791793486026, 1.6692946400847968, 1.6367714062674545, 1.6014726130581098, 1.5477791531924465, 1.524081764733565, 1.5134018020340065, 1.501736636784485, 1.4855379893016827, 1.4687023696868506, 1.4096802408180151, 1.958508150231966, 1.365082540483004, 2.114027601737403, 1.8056278771006948, 1.5534557361842758, 6.710074140290743, 9.13657967954917, 7.0154840795450975, 11.186059513580604, 6.733194503476305, 4.227929495507648, 4.172136768247901, 4.157613673152549, 4.138061072544357, 9.847900883129409, 4.1314126976826, 4.120538556880114, 4.106384329182864, 4.032223290546362, 3.9988009253016896, 7.227892705432803, 3.9256489419782854, 3.909904758528646, 3.909268075292017, 9.349214357191531, 2.1240975030534734, 18.054141493923975, 1.2323805740137008, 1.8557929079224682, 1.4063598174967449, 1.2860902080691998, 0.781901045038967, 0.4073390191826131, 0.38413761030982013, 0.39665383895540185, 2.877073999446717, 2.77775550332397, 1.7133386844332885, 1.0225825684385743, 6.264274034405427, 6.2522575056979806, 4.887658056167866, 10.50424648196198, 5.458986794524095, 4.518313887912904, 5.9279314793900975, 5.040900111977703, 9.339699827938977, 5.178620609441824, 6.653286117541343, 6.456419915053523, 3.2935777025365067, 9.622960891375602, 5.300901384544473, 11.44370131283484, 20.968207391378876, 2.712266922577828, 1.7566656293298735, 1.0495089898221053, 3.4611031994882007, 0.47267465907832285, 0.6632729280158021, 0.4186061949106804, 0.41577359819399856, 0.36189274441201325, 0.39961255704449844, 0.3957228426095236, 0.3884035323857035, 0.3847734523531348, 0.5280900767418034, 3.922076948146965, 0.4438238212387227, 0.6598251000603981, 0.4809945464275774, 0.4186774534547876], \"Total\": [67.0, 20.0, 12.0, 69.0, 14.0, 10.0, 12.0, 14.0, 27.0, 7.0, 6.0, 8.0, 6.0, 40.0, 10.0, 10.0, 9.0, 10.0, 7.0, 35.0, 7.0, 5.0, 6.0, 8.0, 5.0, 90.0, 6.0, 6.0, 6.0, 6.0, 67.87977970454313, 27.854095947538884, 8.750815620759555, 69.20868432453526, 35.103720187224546, 8.805082217056855, 5.297492099449141, 5.3172169251053205, 40.70017317583752, 90.02982162690094, 11.435126302353922, 5.701970848417707, 10.455105105232466, 10.481161316940367, 10.952997883901993, 5.98699255929109, 5.989320706993754, 5.994556139107581, 6.0046614234633395, 6.012526609103178, 6.026065616639611, 6.0307872125285344, 6.03321803210231, 6.035520551938365, 6.0403946555701, 6.042089641033399, 6.056215931236343, 9.135526474946994, 6.803988932195018, 12.739817637745581, 14.365795682807931, 14.496180879094753, 7.396346014733447, 10.550262139039567, 8.34009609950724, 14.496180879094753, 9.135526474946994, 6.056215931236343, 6.0403946555701, 6.042089641033399, 6.035520551938365, 14.365795682807931, 6.03321803210231, 6.0307872125285344, 6.026065616639611, 6.012526609103178, 6.0046614234633395, 10.952997883901993, 5.994556139107581, 5.98699255929109, 5.989320706993754, 20.388876738584162, 8.022230662882977, 90.02982162690094, 7.024330944097634, 11.435126302353922, 12.923014172831246, 12.739817637745581, 7.862766876472044, 5.3172169251053205, 5.297492099449141, 5.701970848417707, 69.20868432453526, 67.87977970454313, 40.70017317583752, 27.854095947538884, 6.968781011850538, 6.967816874928682, 5.919225367966268, 12.923014172831246, 7.024330944097634, 5.869319735119766, 7.862766876472044, 6.803988932195018, 12.739817637745581, 8.022230662882977, 10.481161316940367, 10.455105105232466, 5.701970848417707, 20.388876738584162, 11.435126302353922, 40.70017317583752, 90.02982162690094, 14.365795682807931, 14.496180879094753, 10.550262139039567, 35.103720187224546, 5.3172169251053205, 8.805082217056855, 6.056215931236343, 6.042089641033399, 5.297492099449141, 5.994556139107581, 6.035520551938365, 6.03321803210231, 5.989320706993754, 8.34009609950724, 69.20868432453526, 9.135526474946994, 67.87977970454313, 27.854095947538884, 10.952997883901993], \"Category\": [\"Default\", \"Default\", \"Default\", \"Default\", \"Default\", \"Default\", \"Default\", \"Default\", \"Default\", \"Default\", \"Default\", \"Default\", \"Default\", \"Default\", \"Default\", \"Default\", \"Default\", \"Default\", \"Default\", \"Default\", \"Default\", \"Default\", \"Default\", \"Default\", \"Default\", \"Default\", \"Default\", \"Default\", \"Default\", \"Default\", \"Topic1\", \"Topic1\", \"Topic1\", \"Topic1\", \"Topic1\", \"Topic1\", \"Topic1\", \"Topic1\", \"Topic1\", \"Topic1\", \"Topic1\", \"Topic1\", \"Topic1\", \"Topic1\", \"Topic1\", \"Topic1\", \"Topic1\", \"Topic1\", \"Topic1\", \"Topic1\", \"Topic1\", \"Topic1\", \"Topic1\", \"Topic1\", \"Topic1\", \"Topic1\", \"Topic1\", \"Topic1\", \"Topic1\", \"Topic1\", \"Topic1\", \"Topic1\", \"Topic2\", \"Topic2\", \"Topic2\", \"Topic2\", \"Topic2\", \"Topic2\", \"Topic2\", \"Topic2\", \"Topic2\", \"Topic2\", \"Topic2\", \"Topic2\", \"Topic2\", \"Topic2\", \"Topic2\", \"Topic2\", \"Topic2\", \"Topic2\", \"Topic2\", \"Topic2\", \"Topic2\", \"Topic2\", \"Topic2\", \"Topic2\", \"Topic2\", \"Topic2\", \"Topic2\", \"Topic2\", \"Topic2\", \"Topic2\", \"Topic2\", \"Topic2\", \"Topic2\", \"Topic2\", \"Topic3\", \"Topic3\", \"Topic3\", \"Topic3\", \"Topic3\", \"Topic3\", \"Topic3\", \"Topic3\", \"Topic3\", \"Topic3\", \"Topic3\", \"Topic3\", \"Topic3\", \"Topic3\", \"Topic3\", \"Topic3\", \"Topic3\", \"Topic3\", \"Topic3\", \"Topic3\", \"Topic3\", \"Topic3\", \"Topic3\", \"Topic3\", \"Topic3\", \"Topic3\", \"Topic3\", \"Topic3\", \"Topic3\", \"Topic3\", \"Topic3\", \"Topic3\", \"Topic3\", \"Topic3\", \"Topic3\", \"Topic3\"], \"logprob\": [30.0, 29.0, 28.0, 27.0, 26.0, 25.0, 24.0, 23.0, 22.0, 21.0, 20.0, 19.0, 18.0, 17.0, 16.0, 15.0, 14.0, 13.0, 12.0, 11.0, 10.0, 9.0, 8.0, 7.0, 6.0, 5.0, 4.0, 3.0, 2.0, 1.0, -1.6625, -2.5568, -3.7516, -1.6945, -2.3973, -3.7913, -4.3128, -4.3382, -2.5125, -1.8963, -4.3747, -5.1292, -4.5592, -4.607, -4.6324, -5.2916, -5.3004, -5.3158, -5.3355, -5.3573, -5.3914, -5.4069, -5.4139, -5.4216, -5.4325, -5.4439, -5.4849, -5.1561, -5.517, -5.0797, -5.2373, -5.3878, -3.1513, -2.8427, -3.1068, -2.6403, -3.1479, -3.6132, -3.6265, -3.63, -3.6347, -2.7677, -3.6363, -3.639, -3.6424, -3.6606, -3.669, -3.077, -3.6874, -3.6914, -3.6916, -2.8197, -4.3016, -2.1616, -4.846, -4.4366, -4.7139, -4.8033, -5.301, -5.9531, -6.0117, -5.9796, -3.9982, -4.0333, -4.5165, -5.0326, -3.172, -3.174, -3.4202, -2.6551, -3.3096, -3.4988, -3.2272, -3.3893, -2.7726, -3.3624, -3.1118, -3.1418, -3.8149, -2.7427, -3.339, -2.5695, -1.9639, -4.0091, -4.4435, -4.9586, -3.7653, -5.7562, -5.4175, -5.8777, -5.8845, -6.0233, -5.9242, -5.9339, -5.9526, -5.962, -5.6454, -3.6403, -5.8192, -5.4227, -5.7388, -5.8775], \"loglift\": [30.0, 29.0, 28.0, 27.0, 26.0, 25.0, 24.0, 23.0, 22.0, 21.0, 20.0, 19.0, 18.0, 17.0, 16.0, 15.0, 14.0, 13.0, 12.0, 11.0, 10.0, 9.0, 8.0, 7.0, 6.0, 5.0, 4.0, 3.0, 2.0, 1.0, 0.5906, 0.5871, 0.5501, 0.5391, 0.5152, 0.5041, 0.4908, 0.4616, 0.2521, 0.0744, -0.3406, -0.3993, -0.4355, -0.4858, -0.5552, -0.6104, -0.6196, -0.6359, -0.6573, -0.6804, -0.7167, -0.7329, -0.7404, -0.7485, -0.7601, -0.7718, -0.8152, -0.8974, -0.9637, -1.1536, -1.4314, -1.5909, 1.3185, 1.272, 1.2429, 1.1566, 1.1107, 1.0565, 1.0458, 1.042, 1.0384, 1.0383, 1.0372, 1.035, 1.0323, 1.0163, 1.0093, 1.0002, 0.9925, 0.9898, 0.9892, 0.6362, 0.087, -0.1909, -0.3246, -0.4025, -0.8022, -0.8773, -0.8923, -1.1532, -1.2081, -1.2497, -1.7645, -1.7802, -1.7519, -1.8888, 1.3573, 1.3555, 1.2724, 1.2567, 1.2118, 1.2023, 1.1814, 1.164, 1.1534, 1.0262, 1.0094, 0.9819, 0.9151, 0.7131, 0.6951, 0.1951, 0.0068, -0.2032, -0.6466, -0.8439, -0.8528, -0.9564, -1.122, -1.208, -1.2125, -1.2197, -1.2442, -1.2608, -1.2791, -1.2812, -1.2957, -1.4066, -1.5606, -3.1696, -2.595, -1.8004]}, \"token.table\": {\"Topic\": [1, 2, 3, 1, 2, 1, 2, 3, 1, 2, 1, 2, 1, 2, 1, 2, 3, 1, 2, 3, 1, 1, 2, 3, 1, 2, 3, 1, 2, 3, 2, 1, 2, 1, 2, 3, 1, 1, 3, 1, 3, 1, 2, 1, 2, 3, 1, 2, 3, 1, 1, 2, 1, 2, 3, 1, 2, 3, 2, 3, 1, 2, 1, 2, 1, 3, 1, 2, 1, 2, 1, 3, 3, 1, 2, 2, 3, 1, 3, 1, 2, 3, 1, 3, 1, 2, 3, 1, 2, 3, 1, 2, 1, 3, 1, 2], \"Freq\": [0.11990269513310323, 0.8393188659317226, 0.11990269513310323, 0.3336360447026764, 0.6672720894053528, 0.13796737338482318, 0.7588205536165274, 0.13796737338482318, 0.33307456640019006, 0.6661491328003801, 0.3326388605036574, 0.6652777210073147, 0.3316316642452815, 0.663263328490563, 0.331891507201225, 0.66378301440245, 0.8611018497901342, 0.5664789630635143, 0.19993375166947563, 0.23325604361438826, 0.752273239241743, 0.12718169261666976, 0.12718169261666976, 0.7630901557000185, 0.12465360845665667, 0.24930721691331334, 0.6232680422832834, 0.34979937206085776, 0.17489968603042888, 0.4372492150760722, 0.9464132675859229, 0.33405753893851786, 0.6681150778770357, 0.8958413327042587, 0.043347161259883485, 0.05779621501317798, 0.9142004981823185, 0.14697260826927777, 0.7348630413463889, 0.3507559146071395, 0.5261338719107093, 0.16511960791263522, 0.6604784316505409, 0.9428433662950816, 0.04419578279508195, 0.01473192759836065, 0.8830972852638556, 0.028487009202059856, 0.08546102760617957, 0.943842842261138, 0.16555209667928872, 0.6622083867171549, 0.6879577607454203, 0.0491398400532443, 0.27026912029284367, 0.13921957712328267, 0.6960978856164134, 0.208829365684924, 0.14236231293177815, 0.7118115646588907, 0.33392768526564154, 0.6678553705312831, 0.21892553269751258, 0.766239364441294, 0.17037749605229074, 0.8518874802614537, 0.16550565440286427, 0.6620226176114571, 0.27389761522817474, 0.6390944355324076, 0.16894102485298354, 0.8447051242649177, 0.8609827155993124, 0.33137158307872566, 0.6627431661574513, 0.8530593724962464, 0.09478437472180516, 0.3825882150145119, 0.5738823225217679, 0.04904635075396712, 0.4414171567857041, 0.4904635075396712, 0.2862278243109564, 0.6678649233922316, 0.07738132811943782, 0.07738132811943782, 0.851194609313816, 0.15698811842285657, 0.07849405921142828, 0.7064465329028545, 0.3314980478673482, 0.6629960957346964, 0.9085661897060675, 0.11357077371325844, 0.9334354289928872, 0.035901362653572584], \"Term\": [\"army\", \"army\", \"army\", \"available\", \"available\", \"best\", \"best\", \"best\", \"bookensquad\", \"bookensquad\", \"bortoken\", \"bortoken\", \"bortokenshillsquad\", \"bortokenshillsquad\", \"bortokentothemoon\", \"bortokentothemoon\", \"breaking\", \"bts\", \"bts\", \"bts\", \"btsdailyinfo\", \"btshtstweets\", \"btshtstweets\", \"btshtstweets\", \"btstrendingsong\", \"btstrendingsong\", \"btstrendingsong\", \"butter\", \"butter\", \"butter\", \"bytaetear\", \"check\", \"check\", \"co\", \"co\", \"co\", \"cvsqetecql\", \"dance\", \"dance\", \"day\", \"day\", \"giving\", \"giving\", \"https\", \"https\", \"https\", \"instagram\", \"instagram\", \"instagram\", \"jimin\", \"join\", \"join\", \"jungkook\", \"jungkook\", \"jungkook\", \"listen\", \"listen\", \"listen\", \"listening\", \"listening\", \"marketplace\", \"marketplace\", \"nft\", \"nft\", \"permission\", \"permission\", \"pinkecosystem\", \"pinkecosystem\", \"presale\", \"presale\", \"prod\", \"prod\", \"record\", \"right\", \"right\", \"selling\", \"selling\", \"seoul\", \"seoul\", \"song\", \"song\", \"song\", \"stage\", \"stage\", \"stayalive\", \"stayalive\", \"stayalive\", \"suga\", \"suga\", \"suga\", \"tg\", \"tg\", \"update\", \"update\", \"\\ubc29\\ud0c4\\uc18c\\ub144\\ub2e8\", \"\\ubc29\\ud0c4\\uc18c\\ub144\\ub2e8\"]}, \"R\": 30, \"lambda.step\": 0.01, \"plot.opts\": {\"xlab\": \"PC1\", \"ylab\": \"PC2\"}, \"topic.order\": [2, 1, 3]};\n",
              "\n",
              "function LDAvis_load_lib(url, callback){\n",
              "  var s = document.createElement('script');\n",
              "  s.src = url;\n",
              "  s.async = true;\n",
              "  s.onreadystatechange = s.onload = callback;\n",
              "  s.onerror = function(){console.warn(\"failed to load library \" + url);};\n",
              "  document.getElementsByTagName(\"head\")[0].appendChild(s);\n",
              "}\n",
              "\n",
              "if(typeof(LDAvis) !== \"undefined\"){\n",
              "   // already loaded: just create the visualization\n",
              "   !function(LDAvis){\n",
              "       new LDAvis(\"#\" + \"ldavis_el591406973734203689087149886\", ldavis_el591406973734203689087149886_data);\n",
              "   }(LDAvis);\n",
              "}else if(typeof define === \"function\" && define.amd){\n",
              "   // require.js is available: use it to load d3/LDAvis\n",
              "   require.config({paths: {d3: \"https://d3js.org/d3.v5\"}});\n",
              "   require([\"d3\"], function(d3){\n",
              "      window.d3 = d3;\n",
              "      LDAvis_load_lib(\"https://cdn.jsdelivr.net/gh/bmabey/pyLDAvis@3.3.1/pyLDAvis/js/ldavis.v3.0.0.js\", function(){\n",
              "        new LDAvis(\"#\" + \"ldavis_el591406973734203689087149886\", ldavis_el591406973734203689087149886_data);\n",
              "      });\n",
              "    });\n",
              "}else{\n",
              "    // require.js not available: dynamically load d3 & LDAvis\n",
              "    LDAvis_load_lib(\"https://d3js.org/d3.v5.js\", function(){\n",
              "         LDAvis_load_lib(\"https://cdn.jsdelivr.net/gh/bmabey/pyLDAvis@3.3.1/pyLDAvis/js/ldavis.v3.0.0.js\", function(){\n",
              "                 new LDAvis(\"#\" + \"ldavis_el591406973734203689087149886\", ldavis_el591406973734203689087149886_data);\n",
              "            })\n",
              "         });\n",
              "}\n",
              "</script>"
            ]
          },
          "metadata": {},
          "execution_count": 41
        }
      ]
    }
  ]
}