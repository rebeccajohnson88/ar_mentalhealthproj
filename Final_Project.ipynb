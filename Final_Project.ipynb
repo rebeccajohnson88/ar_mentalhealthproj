{
  "nbformat": 4,
  "nbformat_minor": 0,
  "metadata": {
    "colab": {
      "name": "Final_Project.ipynb",
      "provenance": [],
      "authorship_tag": "ABX9TyOKpn8W8Dt8mT23YU3dkYxu",
      "include_colab_link": true
    },
    "kernelspec": {
      "name": "python3",
      "display_name": "Python 3"
    },
    "language_info": {
      "name": "python"
    }
  },
  "cells": [
    {
      "cell_type": "markdown",
      "metadata": {
        "id": "view-in-github",
        "colab_type": "text"
      },
      "source": [
        "<a href=\"https://colab.research.google.com/github/rebeccajohnson88/ar_mentalhealthproj/blob/main/Final_Project.ipynb\" target=\"_parent\"><img src=\"https://colab.research.google.com/assets/colab-badge.svg\" alt=\"Open In Colab\"/></a>"
      ]
    },
    {
      "cell_type": "code",
      "source": [
        "pip install pyLDAvis"
      ],
      "metadata": {
        "id": "V2n8KfFWqTeE"
      },
      "execution_count": null,
      "outputs": []
    },
    {
      "cell_type": "code",
      "source": [
        "%pip install tweepy -U  "
      ],
      "metadata": {
        "id": "v8jJtgD1ApG1"
      },
      "execution_count": null,
      "outputs": []
    },
    {
      "cell_type": "code",
      "execution_count": null,
      "metadata": {
        "id": "jaC4ivI3-q9O"
      },
      "outputs": [],
      "source": [
        "#import relevant packages \n",
        "import tweepy\n",
        "import pandas as pd\n",
        "import nltk \n",
        "nltk.download('stopwords')\n",
        "from nltk.stem.porter import *\n",
        "\n"
      ]
    },
    {
      "cell_type": "code",
      "source": [
        "import gensim\n",
        "from gensim import corpora"
      ],
      "metadata": {
        "id": "KknY1JmKhEy7"
      },
      "execution_count": 3,
      "outputs": []
    },
    {
      "cell_type": "code",
      "source": [
        "nltk.download('punkt')\n",
        "from nltk.tokenize import wordpunct_tokenize, word_tokenize\n",
        "from nltk.corpus import stopwords"
      ],
      "metadata": {
        "colab": {
          "base_uri": "https://localhost:8080/"
        },
        "id": "fk2RYM4Sc6wc",
        "outputId": "53846a64-24c3-4040-f791-aabeddd1cc28"
      },
      "execution_count": 7,
      "outputs": [
        {
          "output_type": "stream",
          "name": "stdout",
          "text": [
            "[nltk_data] Downloading package punkt to /root/nltk_data...\n",
            "[nltk_data]   Package punkt is already up-to-date!\n"
          ]
        }
      ]
    },
    {
      "cell_type": "code",
      "source": [
        "import pyLDAvis\n",
        "import pyLDAvis.gensim_models as gensimvis"
      ],
      "metadata": {
        "id": "ie-Zv-JKq09s"
      },
      "execution_count": 87,
      "outputs": []
    },
    {
      "cell_type": "code",
      "source": [
        "stopwords_list = stopwords.words('english') \n",
        "porter = PorterStemmer()"
      ],
      "metadata": {
        "id": "jeIj3NqCoWh3"
      },
      "execution_count": 8,
      "outputs": []
    },
    {
      "cell_type": "code",
      "source": [
        "#initialize client \n",
        "client = tweepy.Client(bearer_token = 'AAAAAAAAAAAAAAAAAAAAAJe%2BZgEAAAAAYrT%2BKy9PiNrkWJ3KyKE6HIRrZBM%3DfMh2oybMX46FfAGMAoqdm6tkTAaLvRPBWsbvS6l4lPIJ9Up6qr')"
      ],
      "metadata": {
        "id": "K_vvDhsuWPwq"
      },
      "execution_count": 9,
      "outputs": []
    },
    {
      "cell_type": "code",
      "source": [
        "q = \"(#BTS) lang:en\"\n",
        "\n",
        "tweet_resp = client.search_recent_tweets(query = q,\n",
        "                                         max_results = 100, \n",
        "                                         tweet_fields = ['text','in_reply_to_user_id'],\n",
        "                                         user_fields = ['name', 'description'],\n",
        "                                         expansions = ['author_id'])"
      ],
      "metadata": {
        "id": "ruHbdXKoWLwx"
      },
      "execution_count": 90,
      "outputs": []
    },
    {
      "cell_type": "code",
      "source": [
        "[tweet['description'].replace('\\n','') for tweet in tweet_resp.includes['users']][:5]"
      ],
      "metadata": {
        "colab": {
          "base_uri": "https://localhost:8080/"
        },
        "id": "PprF41PveB4m",
        "outputId": "285e0390-e53b-4c72-d180-a4e35d4bd01c"
      },
      "execution_count": 115,
      "outputs": [
        {
          "output_type": "execute_result",
          "data": {
            "text/plain": [
              "['💜🧸 Where is my Angel? 🧸💜',\n",
              " 'bts paved the way.',\n",
              " 'you got the best of me, bts ! ͏ ͏ ͏ ͏ ͏ ͏ ͏ ͏ ͏ ͏ ͏ ͏ ͏ ͏ ͏ ͏ ͏͏ ͏ ͏ ͏ ͏',\n",
              " '💜LOVE💜(YOUR)NATURE😊🌍🌏!#GetItLetItRoll\\U0001f9c8!+21 please(🔞)Artwork credits:_Icon- @bebe_sope /_banner- @bebe_sope 💜',\n",
              " 'K-pop fan ,bts']"
            ]
          },
          "metadata": {},
          "execution_count": 115
        }
      ]
    },
    {
      "cell_type": "code",
      "source": [
        "[user['name'] for user in tweet_resp.includes['users']][:5]"
      ],
      "metadata": {
        "colab": {
          "base_uri": "https://localhost:8080/"
        },
        "id": "vRJoMw_DCF53",
        "outputId": "1d49b4b3-b3bb-4c44-adf4-1445a0b6915b"
      },
      "execution_count": 114,
      "outputs": [
        {
          "output_type": "execute_result",
          "data": {
            "text/plain": [
              "['ᗷᒪᑌᗴ & ᘜᖇᗴY 💜',\n",
              " 'namo do bangtan | ⁷ 💭',\n",
              " 'babi⁷',\n",
              " 'Sarafol💜🕺🕴️💃\\U0001f9c8🌌',\n",
              " 'Bts Fan']"
            ]
          },
          "metadata": {},
          "execution_count": 114
        }
      ]
    },
    {
      "cell_type": "code",
      "source": [
        "tweet_resp.includes['users'][:5]"
      ],
      "metadata": {
        "colab": {
          "base_uri": "https://localhost:8080/"
        },
        "id": "OFmup23pF8PL",
        "outputId": "4308983a-4715-41c9-8ac9-641eeb3f725f"
      },
      "execution_count": 113,
      "outputs": [
        {
          "output_type": "execute_result",
          "data": {
            "text/plain": [
              "[<User id=338606125 name=ᗷᒪᑌᗴ & ᘜᖇᗴY 💜 username=TigerBear_1>,\n",
              " <User id=1467558253320093696 name=namo do bangtan | ⁷ 💭 username=straornt>,\n",
              " <User id=1344008251806019587 name=babi⁷ username=pjmwhy>,\n",
              " <User id=700525549504974848 name=Sarafol💜🕺🕴️💃🧈🌌 username=sarafoool>,\n",
              " <User id=1438000695681056771 name=Bts Fan username=BtsFan981>]"
            ]
          },
          "metadata": {},
          "execution_count": 113
        }
      ]
    },
    {
      "cell_type": "code",
      "source": [
        "tweet_resp.data"
      ],
      "metadata": {
        "id": "oedgMb4keRJ-"
      },
      "execution_count": null,
      "outputs": []
    },
    {
      "cell_type": "code",
      "source": [
        "# Build DataFrame using a tweet's keys as the columns \n",
        "tweet_df = pd.DataFrame(tweet_resp.data)\n",
        "\n",
        "# Print head of DataFrame\n",
        "tweet_df.head()\n"
      ],
      "metadata": {
        "colab": {
          "base_uri": "https://localhost:8080/",
          "height": 204
        },
        "id": "OxlZLSkeUSxC",
        "outputId": "649ef5ab-e723-49e4-bacd-8963e2069356"
      },
      "execution_count": 95,
      "outputs": [
        {
          "output_type": "execute_result",
          "data": {
            "text/plain": [
              "             author_id                   id  in_reply_to_user_id  \\\n",
              "0            338606125  1502453267925811207                  NaN   \n",
              "1  1467558253320093696  1502453266428354561                  NaN   \n",
              "2  1344008251806019587  1502453264863928321                  NaN   \n",
              "3   700525549504974848  1502453263672778754                  NaN   \n",
              "4  1438000695681056771  1502453263425163265                  NaN   \n",
              "\n",
              "                                                text  \n",
              "0  RT @TigerBear_1: @TOP100KPOP I vote #BTSV for ...  \n",
              "1  kim taehyung Listen to #BTS_Butter the best se...  \n",
              "2  RT @sugacrap: I'm completely in love with #Sta...  \n",
              "3  RT @ZER0XBLACK: 220311 RM Instagram \\nhttps://...  \n",
              "4  RT @btsretweetsTS50: I vote for #Butter for #B...  "
            ],
            "text/html": [
              "\n",
              "  <div id=\"df-106257e9-f871-4950-8302-eae230b5dfbb\">\n",
              "    <div class=\"colab-df-container\">\n",
              "      <div>\n",
              "<style scoped>\n",
              "    .dataframe tbody tr th:only-of-type {\n",
              "        vertical-align: middle;\n",
              "    }\n",
              "\n",
              "    .dataframe tbody tr th {\n",
              "        vertical-align: top;\n",
              "    }\n",
              "\n",
              "    .dataframe thead th {\n",
              "        text-align: right;\n",
              "    }\n",
              "</style>\n",
              "<table border=\"1\" class=\"dataframe\">\n",
              "  <thead>\n",
              "    <tr style=\"text-align: right;\">\n",
              "      <th></th>\n",
              "      <th>author_id</th>\n",
              "      <th>id</th>\n",
              "      <th>in_reply_to_user_id</th>\n",
              "      <th>text</th>\n",
              "    </tr>\n",
              "  </thead>\n",
              "  <tbody>\n",
              "    <tr>\n",
              "      <th>0</th>\n",
              "      <td>338606125</td>\n",
              "      <td>1502453267925811207</td>\n",
              "      <td>NaN</td>\n",
              "      <td>RT @TigerBear_1: @TOP100KPOP I vote #BTSV for ...</td>\n",
              "    </tr>\n",
              "    <tr>\n",
              "      <th>1</th>\n",
              "      <td>1467558253320093696</td>\n",
              "      <td>1502453266428354561</td>\n",
              "      <td>NaN</td>\n",
              "      <td>kim taehyung Listen to #BTS_Butter the best se...</td>\n",
              "    </tr>\n",
              "    <tr>\n",
              "      <th>2</th>\n",
              "      <td>1344008251806019587</td>\n",
              "      <td>1502453264863928321</td>\n",
              "      <td>NaN</td>\n",
              "      <td>RT @sugacrap: I'm completely in love with #Sta...</td>\n",
              "    </tr>\n",
              "    <tr>\n",
              "      <th>3</th>\n",
              "      <td>700525549504974848</td>\n",
              "      <td>1502453263672778754</td>\n",
              "      <td>NaN</td>\n",
              "      <td>RT @ZER0XBLACK: 220311 RM Instagram \\nhttps://...</td>\n",
              "    </tr>\n",
              "    <tr>\n",
              "      <th>4</th>\n",
              "      <td>1438000695681056771</td>\n",
              "      <td>1502453263425163265</td>\n",
              "      <td>NaN</td>\n",
              "      <td>RT @btsretweetsTS50: I vote for #Butter for #B...</td>\n",
              "    </tr>\n",
              "  </tbody>\n",
              "</table>\n",
              "</div>\n",
              "      <button class=\"colab-df-convert\" onclick=\"convertToInteractive('df-106257e9-f871-4950-8302-eae230b5dfbb')\"\n",
              "              title=\"Convert this dataframe to an interactive table.\"\n",
              "              style=\"display:none;\">\n",
              "        \n",
              "  <svg xmlns=\"http://www.w3.org/2000/svg\" height=\"24px\"viewBox=\"0 0 24 24\"\n",
              "       width=\"24px\">\n",
              "    <path d=\"M0 0h24v24H0V0z\" fill=\"none\"/>\n",
              "    <path d=\"M18.56 5.44l.94 2.06.94-2.06 2.06-.94-2.06-.94-.94-2.06-.94 2.06-2.06.94zm-11 1L8.5 8.5l.94-2.06 2.06-.94-2.06-.94L8.5 2.5l-.94 2.06-2.06.94zm10 10l.94 2.06.94-2.06 2.06-.94-2.06-.94-.94-2.06-.94 2.06-2.06.94z\"/><path d=\"M17.41 7.96l-1.37-1.37c-.4-.4-.92-.59-1.43-.59-.52 0-1.04.2-1.43.59L10.3 9.45l-7.72 7.72c-.78.78-.78 2.05 0 2.83L4 21.41c.39.39.9.59 1.41.59.51 0 1.02-.2 1.41-.59l7.78-7.78 2.81-2.81c.8-.78.8-2.07 0-2.86zM5.41 20L4 18.59l7.72-7.72 1.47 1.35L5.41 20z\"/>\n",
              "  </svg>\n",
              "      </button>\n",
              "      \n",
              "  <style>\n",
              "    .colab-df-container {\n",
              "      display:flex;\n",
              "      flex-wrap:wrap;\n",
              "      gap: 12px;\n",
              "    }\n",
              "\n",
              "    .colab-df-convert {\n",
              "      background-color: #E8F0FE;\n",
              "      border: none;\n",
              "      border-radius: 50%;\n",
              "      cursor: pointer;\n",
              "      display: none;\n",
              "      fill: #1967D2;\n",
              "      height: 32px;\n",
              "      padding: 0 0 0 0;\n",
              "      width: 32px;\n",
              "    }\n",
              "\n",
              "    .colab-df-convert:hover {\n",
              "      background-color: #E2EBFA;\n",
              "      box-shadow: 0px 1px 2px rgba(60, 64, 67, 0.3), 0px 1px 3px 1px rgba(60, 64, 67, 0.15);\n",
              "      fill: #174EA6;\n",
              "    }\n",
              "\n",
              "    [theme=dark] .colab-df-convert {\n",
              "      background-color: #3B4455;\n",
              "      fill: #D2E3FC;\n",
              "    }\n",
              "\n",
              "    [theme=dark] .colab-df-convert:hover {\n",
              "      background-color: #434B5C;\n",
              "      box-shadow: 0px 1px 3px 1px rgba(0, 0, 0, 0.15);\n",
              "      filter: drop-shadow(0px 1px 2px rgba(0, 0, 0, 0.3));\n",
              "      fill: #FFFFFF;\n",
              "    }\n",
              "  </style>\n",
              "\n",
              "      <script>\n",
              "        const buttonEl =\n",
              "          document.querySelector('#df-106257e9-f871-4950-8302-eae230b5dfbb button.colab-df-convert');\n",
              "        buttonEl.style.display =\n",
              "          google.colab.kernel.accessAllowed ? 'block' : 'none';\n",
              "\n",
              "        async function convertToInteractive(key) {\n",
              "          const element = document.querySelector('#df-106257e9-f871-4950-8302-eae230b5dfbb');\n",
              "          const dataTable =\n",
              "            await google.colab.kernel.invokeFunction('convertToInteractive',\n",
              "                                                     [key], {});\n",
              "          if (!dataTable) return;\n",
              "\n",
              "          const docLinkHtml = 'Like what you see? Visit the ' +\n",
              "            '<a target=\"_blank\" href=https://colab.research.google.com/notebooks/data_table.ipynb>data table notebook</a>'\n",
              "            + ' to learn more about interactive tables.';\n",
              "          element.innerHTML = '';\n",
              "          dataTable['output_type'] = 'display_data';\n",
              "          await google.colab.output.renderOutput(dataTable, element);\n",
              "          const docLink = document.createElement('div');\n",
              "          docLink.innerHTML = docLinkHtml;\n",
              "          element.appendChild(docLink);\n",
              "        }\n",
              "      </script>\n",
              "    </div>\n",
              "  </div>\n",
              "  "
            ]
          },
          "metadata": {},
          "execution_count": 95
        }
      ]
    },
    {
      "cell_type": "code",
      "source": [
        "#User dataframe \n",
        "user_df = pd.DataFrame(tweet_resp.includes['users'])\n",
        "user_df['author_id'] = user_df['id']\n",
        "\n",
        "#Print head \n",
        "user_df.head()"
      ],
      "metadata": {
        "colab": {
          "base_uri": "https://localhost:8080/",
          "height": 204
        },
        "id": "3CkURT1MI72U",
        "outputId": "4b126cf0-3175-4e65-b66e-78e279a4f7bc"
      },
      "execution_count": 96,
      "outputs": [
        {
          "output_type": "execute_result",
          "data": {
            "text/plain": [
              "                                         description                   id  \\\n",
              "0                           💜🧸 Where is my Angel? 🧸💜            338606125   \n",
              "1                                 bts paved the way.  1467558253320093696   \n",
              "2  you got the best of me, bts ! ͏ ͏ ͏ ͏ ͏ ͏ ͏ ͏ ...  1344008251806019587   \n",
              "3  💜LOVE💜(YOUR)NATURE😊🌍🌏!\\n#GetItLetItRoll🧈!\\n+21...   700525549504974848   \n",
              "4                                     K-pop fan ,bts  1438000695681056771   \n",
              "\n",
              "                    name     username            author_id  \n",
              "0          ᗷᒪᑌᗴ & ᘜᖇᗴY 💜  TigerBear_1            338606125  \n",
              "1  namo do bangtan | ⁷ 💭     straornt  1467558253320093696  \n",
              "2                  babi⁷       pjmwhy  1344008251806019587  \n",
              "3         Sarafol💜🕺🕴️💃🧈🌌    sarafoool   700525549504974848  \n",
              "4                Bts Fan    BtsFan981  1438000695681056771  "
            ],
            "text/html": [
              "\n",
              "  <div id=\"df-1ac75709-1615-47dc-9993-ccbf1e4e4a32\">\n",
              "    <div class=\"colab-df-container\">\n",
              "      <div>\n",
              "<style scoped>\n",
              "    .dataframe tbody tr th:only-of-type {\n",
              "        vertical-align: middle;\n",
              "    }\n",
              "\n",
              "    .dataframe tbody tr th {\n",
              "        vertical-align: top;\n",
              "    }\n",
              "\n",
              "    .dataframe thead th {\n",
              "        text-align: right;\n",
              "    }\n",
              "</style>\n",
              "<table border=\"1\" class=\"dataframe\">\n",
              "  <thead>\n",
              "    <tr style=\"text-align: right;\">\n",
              "      <th></th>\n",
              "      <th>description</th>\n",
              "      <th>id</th>\n",
              "      <th>name</th>\n",
              "      <th>username</th>\n",
              "      <th>author_id</th>\n",
              "    </tr>\n",
              "  </thead>\n",
              "  <tbody>\n",
              "    <tr>\n",
              "      <th>0</th>\n",
              "      <td>💜🧸 Where is my Angel? 🧸💜</td>\n",
              "      <td>338606125</td>\n",
              "      <td>ᗷᒪᑌᗴ &amp; ᘜᖇᗴY 💜</td>\n",
              "      <td>TigerBear_1</td>\n",
              "      <td>338606125</td>\n",
              "    </tr>\n",
              "    <tr>\n",
              "      <th>1</th>\n",
              "      <td>bts paved the way.</td>\n",
              "      <td>1467558253320093696</td>\n",
              "      <td>namo do bangtan | ⁷ 💭</td>\n",
              "      <td>straornt</td>\n",
              "      <td>1467558253320093696</td>\n",
              "    </tr>\n",
              "    <tr>\n",
              "      <th>2</th>\n",
              "      <td>you got the best of me, bts ! ͏ ͏ ͏ ͏ ͏ ͏ ͏ ͏ ...</td>\n",
              "      <td>1344008251806019587</td>\n",
              "      <td>babi⁷</td>\n",
              "      <td>pjmwhy</td>\n",
              "      <td>1344008251806019587</td>\n",
              "    </tr>\n",
              "    <tr>\n",
              "      <th>3</th>\n",
              "      <td>💜LOVE💜(YOUR)NATURE😊🌍🌏!\\n#GetItLetItRoll🧈!\\n+21...</td>\n",
              "      <td>700525549504974848</td>\n",
              "      <td>Sarafol💜🕺🕴️💃🧈🌌</td>\n",
              "      <td>sarafoool</td>\n",
              "      <td>700525549504974848</td>\n",
              "    </tr>\n",
              "    <tr>\n",
              "      <th>4</th>\n",
              "      <td>K-pop fan ,bts</td>\n",
              "      <td>1438000695681056771</td>\n",
              "      <td>Bts Fan</td>\n",
              "      <td>BtsFan981</td>\n",
              "      <td>1438000695681056771</td>\n",
              "    </tr>\n",
              "  </tbody>\n",
              "</table>\n",
              "</div>\n",
              "      <button class=\"colab-df-convert\" onclick=\"convertToInteractive('df-1ac75709-1615-47dc-9993-ccbf1e4e4a32')\"\n",
              "              title=\"Convert this dataframe to an interactive table.\"\n",
              "              style=\"display:none;\">\n",
              "        \n",
              "  <svg xmlns=\"http://www.w3.org/2000/svg\" height=\"24px\"viewBox=\"0 0 24 24\"\n",
              "       width=\"24px\">\n",
              "    <path d=\"M0 0h24v24H0V0z\" fill=\"none\"/>\n",
              "    <path d=\"M18.56 5.44l.94 2.06.94-2.06 2.06-.94-2.06-.94-.94-2.06-.94 2.06-2.06.94zm-11 1L8.5 8.5l.94-2.06 2.06-.94-2.06-.94L8.5 2.5l-.94 2.06-2.06.94zm10 10l.94 2.06.94-2.06 2.06-.94-2.06-.94-.94-2.06-.94 2.06-2.06.94z\"/><path d=\"M17.41 7.96l-1.37-1.37c-.4-.4-.92-.59-1.43-.59-.52 0-1.04.2-1.43.59L10.3 9.45l-7.72 7.72c-.78.78-.78 2.05 0 2.83L4 21.41c.39.39.9.59 1.41.59.51 0 1.02-.2 1.41-.59l7.78-7.78 2.81-2.81c.8-.78.8-2.07 0-2.86zM5.41 20L4 18.59l7.72-7.72 1.47 1.35L5.41 20z\"/>\n",
              "  </svg>\n",
              "      </button>\n",
              "      \n",
              "  <style>\n",
              "    .colab-df-container {\n",
              "      display:flex;\n",
              "      flex-wrap:wrap;\n",
              "      gap: 12px;\n",
              "    }\n",
              "\n",
              "    .colab-df-convert {\n",
              "      background-color: #E8F0FE;\n",
              "      border: none;\n",
              "      border-radius: 50%;\n",
              "      cursor: pointer;\n",
              "      display: none;\n",
              "      fill: #1967D2;\n",
              "      height: 32px;\n",
              "      padding: 0 0 0 0;\n",
              "      width: 32px;\n",
              "    }\n",
              "\n",
              "    .colab-df-convert:hover {\n",
              "      background-color: #E2EBFA;\n",
              "      box-shadow: 0px 1px 2px rgba(60, 64, 67, 0.3), 0px 1px 3px 1px rgba(60, 64, 67, 0.15);\n",
              "      fill: #174EA6;\n",
              "    }\n",
              "\n",
              "    [theme=dark] .colab-df-convert {\n",
              "      background-color: #3B4455;\n",
              "      fill: #D2E3FC;\n",
              "    }\n",
              "\n",
              "    [theme=dark] .colab-df-convert:hover {\n",
              "      background-color: #434B5C;\n",
              "      box-shadow: 0px 1px 3px 1px rgba(0, 0, 0, 0.15);\n",
              "      filter: drop-shadow(0px 1px 2px rgba(0, 0, 0, 0.3));\n",
              "      fill: #FFFFFF;\n",
              "    }\n",
              "  </style>\n",
              "\n",
              "      <script>\n",
              "        const buttonEl =\n",
              "          document.querySelector('#df-1ac75709-1615-47dc-9993-ccbf1e4e4a32 button.colab-df-convert');\n",
              "        buttonEl.style.display =\n",
              "          google.colab.kernel.accessAllowed ? 'block' : 'none';\n",
              "\n",
              "        async function convertToInteractive(key) {\n",
              "          const element = document.querySelector('#df-1ac75709-1615-47dc-9993-ccbf1e4e4a32');\n",
              "          const dataTable =\n",
              "            await google.colab.kernel.invokeFunction('convertToInteractive',\n",
              "                                                     [key], {});\n",
              "          if (!dataTable) return;\n",
              "\n",
              "          const docLinkHtml = 'Like what you see? Visit the ' +\n",
              "            '<a target=\"_blank\" href=https://colab.research.google.com/notebooks/data_table.ipynb>data table notebook</a>'\n",
              "            + ' to learn more about interactive tables.';\n",
              "          element.innerHTML = '';\n",
              "          dataTable['output_type'] = 'display_data';\n",
              "          await google.colab.output.renderOutput(dataTable, element);\n",
              "          const docLink = document.createElement('div');\n",
              "          docLink.innerHTML = docLinkHtml;\n",
              "          element.appendChild(docLink);\n",
              "        }\n",
              "      </script>\n",
              "    </div>\n",
              "  </div>\n",
              "  "
            ]
          },
          "metadata": {},
          "execution_count": 96
        }
      ]
    },
    {
      "cell_type": "code",
      "source": [
        "BTS_tweets = tweet_df.merge(user_df, on='author_id')"
      ],
      "metadata": {
        "id": "YshF8DsaHV5C"
      },
      "execution_count": 97,
      "outputs": []
    },
    {
      "cell_type": "code",
      "source": [
        "BTS_tweets['text'] = BTS_tweets['text'].str.replace('\\n','')\n",
        "BTS_tweets['description'] = BTS_tweets['description'].str.replace('\\n', '')"
      ],
      "metadata": {
        "id": "BLY1joyUJvWn"
      },
      "execution_count": 98,
      "outputs": []
    },
    {
      "cell_type": "code",
      "source": [
        "BTS_tweets['description'] = BTS_tweets['description'].str.replace('.', '')"
      ],
      "metadata": {
        "colab": {
          "base_uri": "https://localhost:8080/"
        },
        "id": "rCJinJtk6sbA",
        "outputId": "30b60aad-9552-4e10-e139-b1cd3dc1bc8a"
      },
      "execution_count": 99,
      "outputs": [
        {
          "output_type": "stream",
          "name": "stderr",
          "text": [
            "/usr/local/lib/python3.7/dist-packages/ipykernel_launcher.py:1: FutureWarning: The default value of regex will change from True to False in a future version. In addition, single character regular expressions will *not* be treated as literal strings when regex=True.\n",
            "  \"\"\"Entry point for launching an IPython kernel.\n"
          ]
        }
      ]
    },
    {
      "cell_type": "code",
      "source": [
        "corpus_lower = BTS_tweets['description'].str.lower().to_list()"
      ],
      "metadata": {
        "id": "t1J7CZca9YNi"
      },
      "execution_count": 100,
      "outputs": []
    },
    {
      "cell_type": "code",
      "source": [
        "def cleaning_function(string): \n",
        "  string_nostops = [word for word in wordpunct_tokenize(string) if word not in stopwords_list]\n",
        "  string_cleaned = [porter.stem(token) for token in string_nostops if token.isalpha() and len(token) > 1]\n",
        "  return string_cleaned"
      ],
      "metadata": {
        "id": "D4W4wa_MuNdI"
      },
      "execution_count": 101,
      "outputs": []
    },
    {
      "cell_type": "code",
      "source": [
        "corpus_cleaned = [cleaning_function(desc) for desc in corpus_lower]"
      ],
      "metadata": {
        "id": "aexnkPAl-Tf3"
      },
      "execution_count": 102,
      "outputs": []
    },
    {
      "cell_type": "code",
      "source": [
        "corpus_dict = corpora.Dictionary(corpus_cleaned)"
      ],
      "metadata": {
        "id": "Zcu7TNhdagZS"
      },
      "execution_count": 103,
      "outputs": []
    },
    {
      "cell_type": "code",
      "source": [
        "first_entries = {k: corpus_dict[k] for k in corpus_dict.keys()[:6]}"
      ],
      "metadata": {
        "id": "jA7rhBfPXLb4"
      },
      "execution_count": 104,
      "outputs": []
    },
    {
      "cell_type": "code",
      "source": [
        "lower_bound = round(BTS_tweets.description.shape[0]*0.05)\n",
        "upper_bound = round(BTS_tweets.description.shape[0]*0.95)"
      ],
      "metadata": {
        "id": "FthhI-vTYcH7"
      },
      "execution_count": 105,
      "outputs": []
    },
    {
      "cell_type": "code",
      "source": [
        "corpus_dict.filter_extremes(no_below = lower_bound,\n",
        "                             no_above = upper_bound)"
      ],
      "metadata": {
        "id": "MS11YjgMYxLx"
      },
      "execution_count": 106,
      "outputs": []
    },
    {
      "cell_type": "code",
      "source": [
        "corpus_fromdict = [corpus_dict.doc2bow(one_text) for one_text in corpus_cleaned]"
      ],
      "metadata": {
        "id": "QcMKYLlvZP_T"
      },
      "execution_count": 107,
      "outputs": []
    },
    {
      "cell_type": "code",
      "source": [
        "lda_model = gensim.models.ldamodel.LdaModel(corpus_fromdict, \n",
        "                                         num_topics = 2, id2word=corpus_dict, \n",
        "                                         passes = 2, alpha = 'auto',\n",
        "                                        per_word_topics = True)\n"
      ],
      "metadata": {
        "id": "DAgZVMEUlIYC"
      },
      "execution_count": null,
      "outputs": []
    },
    {
      "cell_type": "code",
      "source": [
        "topics = lda_model.print_topics(num_words = 10)\n",
        "for topic in topics:\n",
        "    print(topic)"
      ],
      "metadata": {
        "colab": {
          "base_uri": "https://localhost:8080/"
        },
        "id": "TuFEPDtGn-xO",
        "outputId": "81c70270-03ec-4339-a9a5-f207210de6e7"
      },
      "execution_count": 109,
      "outputs": [
        {
          "output_type": "stream",
          "name": "stdout",
          "text": [
            "(0, '0.189*\"kpop\" + 0.113*\"armi\" + 0.093*\"taehyung\" + 0.092*\"hater\" + 0.091*\"hous\" + 0.091*\"anti\" + 0.088*\"bt\" + 0.052*\"bangtan\" + 0.040*\"pop\" + 0.039*\"account\"')\n",
            "(1, '0.283*\"bt\" + 0.179*\"love\" + 0.104*\"armi\" + 0.085*\"account\" + 0.078*\"way\" + 0.067*\"fan\" + 0.053*\"wreck\" + 0.051*\"pop\" + 0.044*\"bangtan\" + 0.018*\"taehyung\"')\n"
          ]
        }
      ]
    },
    {
      "cell_type": "code",
      "source": [
        "topic_probability = [lda_model.get_document_topics(item) for item in corpus_fromdict]\n",
        "\n",
        "corpus_cleaned[0:5]\n",
        "topic_probability[0:5]"
      ],
      "metadata": {
        "colab": {
          "base_uri": "https://localhost:8080/"
        },
        "id": "AyQwmleZof27",
        "outputId": "8685318d-4946-4c57-d7cd-f5fc29ecf10f"
      },
      "execution_count": 110,
      "outputs": [
        {
          "output_type": "execute_result",
          "data": {
            "text/plain": [
              "[[(0, 0.4579789), (1, 0.5420211)],\n",
              " [(0, 0.4579789), (1, 0.5420211)],\n",
              " [(0, 0.4579789), (1, 0.5420211)],\n",
              " [(0, 0.20128044), (1, 0.7987196)],\n",
              " [(0, 0.2012824), (1, 0.7987176)]]"
            ]
          },
          "metadata": {},
          "execution_count": 110
        }
      ]
    },
    {
      "cell_type": "code",
      "source": [
        "pyLDAvis.enable_notebook()\n",
        "lda_display = gensimvis.prepare(lda_model, corpus_fromdict, corpus_dict)\n",
        "pyLDAvis.display(lda_display)"
      ],
      "metadata": {
        "colab": {
          "base_uri": "https://localhost:8080/",
          "height": 915
        },
        "id": "7bH0s9sQpWpB",
        "outputId": "71b582fb-5930-4a5d-a64e-8ea5696d0ec3"
      },
      "execution_count": 111,
      "outputs": [
        {
          "output_type": "stream",
          "name": "stderr",
          "text": [
            "/usr/local/lib/python3.7/dist-packages/pyLDAvis/_prepare.py:247: FutureWarning: In a future version of pandas all arguments of DataFrame.drop except for the argument 'labels' will be keyword-only\n",
            "  by='saliency', ascending=False).head(R).drop('saliency', 1)\n"
          ]
        },
        {
          "output_type": "execute_result",
          "data": {
            "text/plain": [
              "<IPython.core.display.HTML object>"
            ],
            "text/html": [
              "\n",
              "<link rel=\"stylesheet\" type=\"text/css\" href=\"https://cdn.jsdelivr.net/gh/bmabey/pyLDAvis@3.3.1/pyLDAvis/js/ldavis.v1.0.0.css\">\n",
              "\n",
              "\n",
              "<div id=\"ldavis_el1151403391964137769019276331\"></div>\n",
              "<script type=\"text/javascript\">\n",
              "\n",
              "var ldavis_el1151403391964137769019276331_data = {\"mdsDat\": {\"x\": [0.09781265758955003, -0.09781265758955003], \"y\": [0.0, 0.0], \"topics\": [1, 2], \"cluster\": [1, 1], \"Freq\": [62.9862382623411, 37.0137617376589]}, \"tinfo\": {\"Term\": [\"kpop\", \"hater\", \"hous\", \"anti\", \"taehyung\", \"love\", \"bt\", \"armi\", \"bangtan\", \"wreck\", \"way\", \"account\", \"pop\", \"fan\", \"love\", \"bt\", \"wreck\", \"way\", \"account\", \"fan\", \"pop\", \"armi\", \"bangtan\", \"taehyung\", \"anti\", \"hous\", \"hater\", \"kpop\", \"kpop\", \"hater\", \"hous\", \"anti\", \"taehyung\", \"bangtan\", \"armi\", \"pop\", \"fan\", \"account\", \"way\", \"wreck\", \"bt\", \"love\"], \"Freq\": [10.0, 5.0, 5.0, 5.0, 6.0, 16.0, 28.0, 14.0, 6.0, 5.0, 8.0, 9.0, 6.0, 7.0, 15.22934728717975, 24.076273277955146, 4.495951576609022, 6.605475121913319, 7.213207293986303, 5.696632734335638, 4.366576442577068, 8.841461764720972, 3.7331506876793727, 1.540933129101094, 0.7304934544036745, 0.7196786423584264, 0.6782309830936795, 1.1039976170697676, 9.441362623039257, 4.601637777877719, 4.5625505344888095, 4.552351515223744, 4.66160629859968, 2.594232517765723, 5.63869877713205, 1.996878621319526, 1.6161080377220274, 1.9329816446280454, 1.6325634730757734, 1.0013306460628406, 4.374598562270877, 1.3616761066749605], \"Total\": [10.0, 5.0, 5.0, 5.0, 6.0, 16.0, 28.0, 14.0, 6.0, 5.0, 8.0, 9.0, 6.0, 7.0, 16.591023393854712, 28.45087184022602, 5.4972822226718625, 8.238038594989092, 9.146188938614348, 7.312740772057666, 6.363455063896594, 14.48016054185302, 6.327383205445096, 6.202539427700774, 5.282844969627419, 5.282229176847236, 5.279868760971398, 10.545360240109025, 10.545360240109025, 5.279868760971398, 5.282229176847236, 5.282844969627419, 6.202539427700774, 6.327383205445096, 14.48016054185302, 6.363455063896594, 7.312740772057666, 9.146188938614348, 8.238038594989092, 5.4972822226718625, 28.45087184022602, 16.591023393854712], \"Category\": [\"Default\", \"Default\", \"Default\", \"Default\", \"Default\", \"Default\", \"Default\", \"Default\", \"Default\", \"Default\", \"Default\", \"Default\", \"Default\", \"Default\", \"Topic1\", \"Topic1\", \"Topic1\", \"Topic1\", \"Topic1\", \"Topic1\", \"Topic1\", \"Topic1\", \"Topic1\", \"Topic1\", \"Topic1\", \"Topic1\", \"Topic1\", \"Topic1\", \"Topic2\", \"Topic2\", \"Topic2\", \"Topic2\", \"Topic2\", \"Topic2\", \"Topic2\", \"Topic2\", \"Topic2\", \"Topic2\", \"Topic2\", \"Topic2\", \"Topic2\", \"Topic2\"], \"logprob\": [14.0, 13.0, 12.0, 11.0, 10.0, 9.0, 8.0, 7.0, 6.0, 5.0, 4.0, 3.0, 2.0, 1.0, -1.7198, -1.2618, -2.9398, -2.5551, -2.4671, -2.7031, -2.969, -2.2636, -3.1258, -4.0106, -4.7571, -4.772, -4.8313, -4.3441, -1.6663, -2.385, -2.3935, -2.3958, -2.372, -2.9581, -2.1817, -3.2198, -3.4314, -3.2523, -3.4212, -3.9101, -2.4356, -3.6027], \"loglift\": [14.0, 13.0, 12.0, 11.0, 10.0, 9.0, 8.0, 7.0, 6.0, 5.0, 4.0, 3.0, 2.0, 1.0, 0.3766, 0.2953, 0.2612, 0.2414, 0.2248, 0.2125, 0.0857, -0.0311, -0.0654, -0.9303, -1.5162, -1.531, -1.5899, -1.7945, 0.8833, 0.8564, 0.8474, 0.8451, 0.7083, 0.1023, 0.0508, -0.1651, -0.5157, -0.5604, -0.6247, -0.709, -0.8785, -1.5063]}, \"token.table\": {\"Topic\": [1, 2, 1, 2, 1, 2, 1, 2, 1, 2, 1, 2, 1, 2, 1, 2, 1, 2, 1, 2, 1, 2, 1, 2, 1, 2, 1, 2], \"Freq\": [0.7653460962791464, 0.21867031322261324, 0.1892919451070938, 0.946459725535469, 0.6215400702213674, 0.41436004681424493, 0.632172869908963, 0.4741296524317223, 0.8435593866781601, 0.14059323111302668, 0.8204858051206039, 0.2734952683735346, 0.18939864706334453, 0.9469932353167226, 0.18931401242171444, 0.9465700621085722, 0.0948284342337139, 0.8534559081034251, 0.9041033602276743, 0.06027355734851163, 0.6285893370559362, 0.3142946685279681, 0.3224485750252429, 0.8061214375631072, 0.8497168251017727, 0.24277623574336363, 0.7276322804572815, 0.18190807011432036], \"Term\": [\"account\", \"account\", \"anti\", \"anti\", \"armi\", \"armi\", \"bangtan\", \"bangtan\", \"bt\", \"bt\", \"fan\", \"fan\", \"hater\", \"hater\", \"hous\", \"hous\", \"kpop\", \"kpop\", \"love\", \"love\", \"pop\", \"pop\", \"taehyung\", \"taehyung\", \"way\", \"way\", \"wreck\", \"wreck\"]}, \"R\": 14, \"lambda.step\": 0.01, \"plot.opts\": {\"xlab\": \"PC1\", \"ylab\": \"PC2\"}, \"topic.order\": [2, 1]};\n",
              "\n",
              "function LDAvis_load_lib(url, callback){\n",
              "  var s = document.createElement('script');\n",
              "  s.src = url;\n",
              "  s.async = true;\n",
              "  s.onreadystatechange = s.onload = callback;\n",
              "  s.onerror = function(){console.warn(\"failed to load library \" + url);};\n",
              "  document.getElementsByTagName(\"head\")[0].appendChild(s);\n",
              "}\n",
              "\n",
              "if(typeof(LDAvis) !== \"undefined\"){\n",
              "   // already loaded: just create the visualization\n",
              "   !function(LDAvis){\n",
              "       new LDAvis(\"#\" + \"ldavis_el1151403391964137769019276331\", ldavis_el1151403391964137769019276331_data);\n",
              "   }(LDAvis);\n",
              "}else if(typeof define === \"function\" && define.amd){\n",
              "   // require.js is available: use it to load d3/LDAvis\n",
              "   require.config({paths: {d3: \"https://d3js.org/d3.v5\"}});\n",
              "   require([\"d3\"], function(d3){\n",
              "      window.d3 = d3;\n",
              "      LDAvis_load_lib(\"https://cdn.jsdelivr.net/gh/bmabey/pyLDAvis@3.3.1/pyLDAvis/js/ldavis.v3.0.0.js\", function(){\n",
              "        new LDAvis(\"#\" + \"ldavis_el1151403391964137769019276331\", ldavis_el1151403391964137769019276331_data);\n",
              "      });\n",
              "    });\n",
              "}else{\n",
              "    // require.js not available: dynamically load d3 & LDAvis\n",
              "    LDAvis_load_lib(\"https://d3js.org/d3.v5.js\", function(){\n",
              "         LDAvis_load_lib(\"https://cdn.jsdelivr.net/gh/bmabey/pyLDAvis@3.3.1/pyLDAvis/js/ldavis.v3.0.0.js\", function(){\n",
              "                 new LDAvis(\"#\" + \"ldavis_el1151403391964137769019276331\", ldavis_el1151403391964137769019276331_data);\n",
              "            })\n",
              "         });\n",
              "}\n",
              "</script>"
            ]
          },
          "metadata": {},
          "execution_count": 111
        }
      ]
    }
  ]
}